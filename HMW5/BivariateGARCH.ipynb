{
 "cells": [
  {
   "cell_type": "code",
   "execution_count": 1,
   "metadata": {},
   "outputs": [
    {
     "data": {
      "text/html": [
       "<div>\n",
       "<style scoped>\n",
       "    .dataframe tbody tr th:only-of-type {\n",
       "        vertical-align: middle;\n",
       "    }\n",
       "\n",
       "    .dataframe tbody tr th {\n",
       "        vertical-align: top;\n",
       "    }\n",
       "\n",
       "    .dataframe thead th {\n",
       "        text-align: right;\n",
       "    }\n",
       "</style>\n",
       "<table border=\"1\" class=\"dataframe\">\n",
       "  <thead>\n",
       "    <tr style=\"text-align: right;\">\n",
       "      <th></th>\n",
       "      <th>High</th>\n",
       "      <th>Low</th>\n",
       "      <th>Open</th>\n",
       "      <th>Close</th>\n",
       "      <th>Volume</th>\n",
       "      <th>Adj Close</th>\n",
       "    </tr>\n",
       "  </thead>\n",
       "  <tbody>\n",
       "    <tr>\n",
       "      <th>count</th>\n",
       "      <td>3081.000000</td>\n",
       "      <td>3081.000000</td>\n",
       "      <td>3081.000000</td>\n",
       "      <td>3081.000000</td>\n",
       "      <td>3.081000e+03</td>\n",
       "      <td>3081.000000</td>\n",
       "    </tr>\n",
       "    <tr>\n",
       "      <th>mean</th>\n",
       "      <td>58.536160</td>\n",
       "      <td>57.270987</td>\n",
       "      <td>57.914784</td>\n",
       "      <td>57.911545</td>\n",
       "      <td>2.833698e+07</td>\n",
       "      <td>51.361476</td>\n",
       "    </tr>\n",
       "    <tr>\n",
       "      <th>std</th>\n",
       "      <td>23.646155</td>\n",
       "      <td>23.543115</td>\n",
       "      <td>23.594463</td>\n",
       "      <td>23.582792</td>\n",
       "      <td>2.259895e+07</td>\n",
       "      <td>25.595596</td>\n",
       "    </tr>\n",
       "    <tr>\n",
       "      <th>min</th>\n",
       "      <td>17.290001</td>\n",
       "      <td>14.960000</td>\n",
       "      <td>15.370000</td>\n",
       "      <td>15.900000</td>\n",
       "      <td>3.680000e+06</td>\n",
       "      <td>12.642586</td>\n",
       "    </tr>\n",
       "    <tr>\n",
       "      <th>25%</th>\n",
       "      <td>41.700001</td>\n",
       "      <td>40.529999</td>\n",
       "      <td>41.099998</td>\n",
       "      <td>41.029999</td>\n",
       "      <td>1.385900e+07</td>\n",
       "      <td>32.858818</td>\n",
       "    </tr>\n",
       "    <tr>\n",
       "      <th>50%</th>\n",
       "      <td>50.770000</td>\n",
       "      <td>49.930000</td>\n",
       "      <td>50.250000</td>\n",
       "      <td>50.320000</td>\n",
       "      <td>2.084340e+07</td>\n",
       "      <td>40.618744</td>\n",
       "    </tr>\n",
       "    <tr>\n",
       "      <th>75%</th>\n",
       "      <td>65.910004</td>\n",
       "      <td>65.059998</td>\n",
       "      <td>65.419998</td>\n",
       "      <td>65.540001</td>\n",
       "      <td>3.471650e+07</td>\n",
       "      <td>60.044895</td>\n",
       "    </tr>\n",
       "    <tr>\n",
       "      <th>max</th>\n",
       "      <td>119.330002</td>\n",
       "      <td>118.080002</td>\n",
       "      <td>119.129997</td>\n",
       "      <td>118.769997</td>\n",
       "      <td>2.172942e+08</td>\n",
       "      <td>116.856049</td>\n",
       "    </tr>\n",
       "  </tbody>\n",
       "</table>\n",
       "</div>"
      ],
      "text/plain": [
       "              High          Low         Open        Close        Volume  \\\n",
       "count  3081.000000  3081.000000  3081.000000  3081.000000  3.081000e+03   \n",
       "mean     58.536160    57.270987    57.914784    57.911545  2.833698e+07   \n",
       "std      23.646155    23.543115    23.594463    23.582792  2.259895e+07   \n",
       "min      17.290001    14.960000    15.370000    15.900000  3.680000e+06   \n",
       "25%      41.700001    40.529999    41.099998    41.029999  1.385900e+07   \n",
       "50%      50.770000    49.930000    50.250000    50.320000  2.084340e+07   \n",
       "75%      65.910004    65.059998    65.419998    65.540001  3.471650e+07   \n",
       "max     119.330002   118.080002   119.129997   118.769997  2.172942e+08   \n",
       "\n",
       "         Adj Close  \n",
       "count  3081.000000  \n",
       "mean     51.361476  \n",
       "std      25.595596  \n",
       "min      12.642586  \n",
       "25%      32.858818  \n",
       "50%      40.618744  \n",
       "75%      60.044895  \n",
       "max     116.856049  "
      ]
     },
     "execution_count": 1,
     "metadata": {},
     "output_type": "execute_result"
    }
   ],
   "source": [
    "#Before the analysis you should have installed the packages needed\n",
    "from pandas_datareader import data\n",
    "import matplotlib.pyplot as plt\n",
    "import pandas as pd\n",
    "import datetime\n",
    "import math\n",
    "import numpy as np\n",
    "from scipy import stats\n",
    "from scipy.stats import norm\n",
    "from statsmodels.tsa.stattools import adfuller\n",
    "from statsmodels.graphics.tsaplots import plot_acf\n",
    "from statsmodels.graphics.tsaplots import plot_pacf\n",
    "from statsmodels.tsa.stattools import acf, pacf\n",
    "from statsmodels.stats import diagnostic as diag\n",
    "\n",
    "\n",
    "# We would like all available data from 03/01/2007 until today.\n",
    "start_date = '2007-01-03'\n",
    "end = datetime.date.today()\n",
    "\n",
    "# User pandas_reader.data.DataReader to load the desired data. As simple as that.\n",
    "JPMorgan = data.DataReader('JPM', 'yahoo', start_date, end)\n",
    "BofA = data.DataReader('BAC', 'yahoo', start_date, end)\n",
    "\n",
    "\n",
    "#some info on the downloaded dataset\n",
    "JPMorgan.describe()"
   ]
  },
  {
   "cell_type": "code",
   "execution_count": 2,
   "metadata": {},
   "outputs": [
    {
     "name": "stdout",
     "output_type": "stream",
     "text": [
      "(3081, 6)\n"
     ]
    },
    {
     "data": {
      "text/html": [
       "<div>\n",
       "<style scoped>\n",
       "    .dataframe tbody tr th:only-of-type {\n",
       "        vertical-align: middle;\n",
       "    }\n",
       "\n",
       "    .dataframe tbody tr th {\n",
       "        vertical-align: top;\n",
       "    }\n",
       "\n",
       "    .dataframe thead th {\n",
       "        text-align: right;\n",
       "    }\n",
       "</style>\n",
       "<table border=\"1\" class=\"dataframe\">\n",
       "  <thead>\n",
       "    <tr style=\"text-align: right;\">\n",
       "      <th></th>\n",
       "      <th>High</th>\n",
       "      <th>Low</th>\n",
       "      <th>Open</th>\n",
       "      <th>Close</th>\n",
       "      <th>Volume</th>\n",
       "      <th>Adj Close</th>\n",
       "    </tr>\n",
       "    <tr>\n",
       "      <th>Date</th>\n",
       "      <th></th>\n",
       "      <th></th>\n",
       "      <th></th>\n",
       "      <th></th>\n",
       "      <th></th>\n",
       "      <th></th>\n",
       "    </tr>\n",
       "  </thead>\n",
       "  <tbody>\n",
       "    <tr>\n",
       "      <th>2007-01-03</th>\n",
       "      <td>48.369999</td>\n",
       "      <td>47.590000</td>\n",
       "      <td>48.000000</td>\n",
       "      <td>48.070000</td>\n",
       "      <td>14244700.0</td>\n",
       "      <td>35.611729</td>\n",
       "    </tr>\n",
       "    <tr>\n",
       "      <th>2007-01-04</th>\n",
       "      <td>48.549999</td>\n",
       "      <td>47.750000</td>\n",
       "      <td>48.049999</td>\n",
       "      <td>48.189999</td>\n",
       "      <td>9471500.0</td>\n",
       "      <td>35.700626</td>\n",
       "    </tr>\n",
       "    <tr>\n",
       "      <th>2007-01-05</th>\n",
       "      <td>48.250000</td>\n",
       "      <td>47.630001</td>\n",
       "      <td>48.169998</td>\n",
       "      <td>47.790001</td>\n",
       "      <td>10760500.0</td>\n",
       "      <td>35.404289</td>\n",
       "    </tr>\n",
       "    <tr>\n",
       "      <th>2007-01-08</th>\n",
       "      <td>48.060001</td>\n",
       "      <td>47.320000</td>\n",
       "      <td>47.570000</td>\n",
       "      <td>47.950001</td>\n",
       "      <td>8239200.0</td>\n",
       "      <td>35.522823</td>\n",
       "    </tr>\n",
       "    <tr>\n",
       "      <th>2007-01-09</th>\n",
       "      <td>48.110001</td>\n",
       "      <td>47.360001</td>\n",
       "      <td>47.900002</td>\n",
       "      <td>47.750000</td>\n",
       "      <td>9276700.0</td>\n",
       "      <td>35.374649</td>\n",
       "    </tr>\n",
       "  </tbody>\n",
       "</table>\n",
       "</div>"
      ],
      "text/plain": [
       "                 High        Low       Open      Close      Volume  Adj Close\n",
       "Date                                                                         \n",
       "2007-01-03  48.369999  47.590000  48.000000  48.070000  14244700.0  35.611729\n",
       "2007-01-04  48.549999  47.750000  48.049999  48.189999   9471500.0  35.700626\n",
       "2007-01-05  48.250000  47.630001  48.169998  47.790001  10760500.0  35.404289\n",
       "2007-01-08  48.060001  47.320000  47.570000  47.950001   8239200.0  35.522823\n",
       "2007-01-09  48.110001  47.360001  47.900002  47.750000   9276700.0  35.374649"
      ]
     },
     "execution_count": 2,
     "metadata": {},
     "output_type": "execute_result"
    }
   ],
   "source": [
    "print(JPMorgan.shape)\n",
    "JPMorgan.head()"
   ]
  },
  {
   "cell_type": "code",
   "execution_count": 3,
   "metadata": {},
   "outputs": [
    {
     "data": {
      "text/html": [
       "<div>\n",
       "<style scoped>\n",
       "    .dataframe tbody tr th:only-of-type {\n",
       "        vertical-align: middle;\n",
       "    }\n",
       "\n",
       "    .dataframe tbody tr th {\n",
       "        vertical-align: top;\n",
       "    }\n",
       "\n",
       "    .dataframe thead th {\n",
       "        text-align: right;\n",
       "    }\n",
       "</style>\n",
       "<table border=\"1\" class=\"dataframe\">\n",
       "  <thead>\n",
       "    <tr style=\"text-align: right;\">\n",
       "      <th></th>\n",
       "      <th>High</th>\n",
       "      <th>Low</th>\n",
       "      <th>Open</th>\n",
       "      <th>Close</th>\n",
       "      <th>Volume</th>\n",
       "      <th>Adj Close</th>\n",
       "    </tr>\n",
       "  </thead>\n",
       "  <tbody>\n",
       "    <tr>\n",
       "      <th>count</th>\n",
       "      <td>3081.000000</td>\n",
       "      <td>3081.000000</td>\n",
       "      <td>3081.000000</td>\n",
       "      <td>3081.000000</td>\n",
       "      <td>3.081000e+03</td>\n",
       "      <td>3081.000000</td>\n",
       "    </tr>\n",
       "    <tr>\n",
       "      <th>mean</th>\n",
       "      <td>20.611185</td>\n",
       "      <td>20.061886</td>\n",
       "      <td>20.354297</td>\n",
       "      <td>20.326894</td>\n",
       "      <td>1.300711e+08</td>\n",
       "      <td>18.527801</td>\n",
       "    </tr>\n",
       "    <tr>\n",
       "      <th>std</th>\n",
       "      <td>11.788258</td>\n",
       "      <td>11.570375</td>\n",
       "      <td>11.690419</td>\n",
       "      <td>11.678539</td>\n",
       "      <td>1.151496e+08</td>\n",
       "      <td>9.773850</td>\n",
       "    </tr>\n",
       "    <tr>\n",
       "      <th>min</th>\n",
       "      <td>3.510000</td>\n",
       "      <td>2.530000</td>\n",
       "      <td>3.220000</td>\n",
       "      <td>3.140000</td>\n",
       "      <td>8.331400e+06</td>\n",
       "      <td>2.865187</td>\n",
       "    </tr>\n",
       "    <tr>\n",
       "      <th>25%</th>\n",
       "      <td>13.380000</td>\n",
       "      <td>13.000000</td>\n",
       "      <td>13.210000</td>\n",
       "      <td>13.190000</td>\n",
       "      <td>6.130790e+07</td>\n",
       "      <td>12.174027</td>\n",
       "    </tr>\n",
       "    <tr>\n",
       "      <th>50%</th>\n",
       "      <td>16.330000</td>\n",
       "      <td>15.960000</td>\n",
       "      <td>16.170000</td>\n",
       "      <td>16.139999</td>\n",
       "      <td>9.621440e+07</td>\n",
       "      <td>15.060007</td>\n",
       "    </tr>\n",
       "    <tr>\n",
       "      <th>75%</th>\n",
       "      <td>26.430000</td>\n",
       "      <td>25.650000</td>\n",
       "      <td>25.990000</td>\n",
       "      <td>26.200001</td>\n",
       "      <td>1.598722e+08</td>\n",
       "      <td>25.127768</td>\n",
       "    </tr>\n",
       "    <tr>\n",
       "      <th>max</th>\n",
       "      <td>54.209999</td>\n",
       "      <td>53.709999</td>\n",
       "      <td>54.080002</td>\n",
       "      <td>54.049999</td>\n",
       "      <td>1.226791e+09</td>\n",
       "      <td>43.714695</td>\n",
       "    </tr>\n",
       "  </tbody>\n",
       "</table>\n",
       "</div>"
      ],
      "text/plain": [
       "              High          Low         Open        Close        Volume  \\\n",
       "count  3081.000000  3081.000000  3081.000000  3081.000000  3.081000e+03   \n",
       "mean     20.611185    20.061886    20.354297    20.326894  1.300711e+08   \n",
       "std      11.788258    11.570375    11.690419    11.678539  1.151496e+08   \n",
       "min       3.510000     2.530000     3.220000     3.140000  8.331400e+06   \n",
       "25%      13.380000    13.000000    13.210000    13.190000  6.130790e+07   \n",
       "50%      16.330000    15.960000    16.170000    16.139999  9.621440e+07   \n",
       "75%      26.430000    25.650000    25.990000    26.200001  1.598722e+08   \n",
       "max      54.209999    53.709999    54.080002    54.049999  1.226791e+09   \n",
       "\n",
       "         Adj Close  \n",
       "count  3081.000000  \n",
       "mean     18.527801  \n",
       "std       9.773850  \n",
       "min       2.865187  \n",
       "25%      12.174027  \n",
       "50%      15.060007  \n",
       "75%      25.127768  \n",
       "max      43.714695  "
      ]
     },
     "execution_count": 3,
     "metadata": {},
     "output_type": "execute_result"
    }
   ],
   "source": [
    "#some info on the downloaded dataset\n",
    "BofA.describe()"
   ]
  },
  {
   "cell_type": "code",
   "execution_count": 4,
   "metadata": {},
   "outputs": [
    {
     "name": "stdout",
     "output_type": "stream",
     "text": [
      "(3081, 6)\n"
     ]
    },
    {
     "data": {
      "text/html": [
       "<div>\n",
       "<style scoped>\n",
       "    .dataframe tbody tr th:only-of-type {\n",
       "        vertical-align: middle;\n",
       "    }\n",
       "\n",
       "    .dataframe tbody tr th {\n",
       "        vertical-align: top;\n",
       "    }\n",
       "\n",
       "    .dataframe thead th {\n",
       "        text-align: right;\n",
       "    }\n",
       "</style>\n",
       "<table border=\"1\" class=\"dataframe\">\n",
       "  <thead>\n",
       "    <tr style=\"text-align: right;\">\n",
       "      <th></th>\n",
       "      <th>High</th>\n",
       "      <th>Low</th>\n",
       "      <th>Open</th>\n",
       "      <th>Close</th>\n",
       "      <th>Volume</th>\n",
       "      <th>Adj Close</th>\n",
       "    </tr>\n",
       "    <tr>\n",
       "      <th>Date</th>\n",
       "      <th></th>\n",
       "      <th></th>\n",
       "      <th></th>\n",
       "      <th></th>\n",
       "      <th></th>\n",
       "      <th></th>\n",
       "    </tr>\n",
       "  </thead>\n",
       "  <tbody>\n",
       "    <tr>\n",
       "      <th>2007-01-03</th>\n",
       "      <td>54.180000</td>\n",
       "      <td>52.990002</td>\n",
       "      <td>53.400002</td>\n",
       "      <td>53.330002</td>\n",
       "      <td>16028200.0</td>\n",
       "      <td>42.720745</td>\n",
       "    </tr>\n",
       "    <tr>\n",
       "      <th>2007-01-04</th>\n",
       "      <td>53.889999</td>\n",
       "      <td>53.049999</td>\n",
       "      <td>53.330002</td>\n",
       "      <td>53.669998</td>\n",
       "      <td>13175000.0</td>\n",
       "      <td>42.993111</td>\n",
       "    </tr>\n",
       "    <tr>\n",
       "      <th>2007-01-05</th>\n",
       "      <td>53.590000</td>\n",
       "      <td>53.029999</td>\n",
       "      <td>53.590000</td>\n",
       "      <td>53.240002</td>\n",
       "      <td>10205000.0</td>\n",
       "      <td>42.648655</td>\n",
       "    </tr>\n",
       "    <tr>\n",
       "      <th>2007-01-08</th>\n",
       "      <td>53.639999</td>\n",
       "      <td>52.799999</td>\n",
       "      <td>53.459999</td>\n",
       "      <td>53.450001</td>\n",
       "      <td>9685900.0</td>\n",
       "      <td>42.816860</td>\n",
       "    </tr>\n",
       "    <tr>\n",
       "      <th>2007-01-09</th>\n",
       "      <td>53.709999</td>\n",
       "      <td>52.970001</td>\n",
       "      <td>53.599998</td>\n",
       "      <td>53.500000</td>\n",
       "      <td>12546500.0</td>\n",
       "      <td>42.856926</td>\n",
       "    </tr>\n",
       "  </tbody>\n",
       "</table>\n",
       "</div>"
      ],
      "text/plain": [
       "                 High        Low       Open      Close      Volume  Adj Close\n",
       "Date                                                                         \n",
       "2007-01-03  54.180000  52.990002  53.400002  53.330002  16028200.0  42.720745\n",
       "2007-01-04  53.889999  53.049999  53.330002  53.669998  13175000.0  42.993111\n",
       "2007-01-05  53.590000  53.029999  53.590000  53.240002  10205000.0  42.648655\n",
       "2007-01-08  53.639999  52.799999  53.459999  53.450001   9685900.0  42.816860\n",
       "2007-01-09  53.709999  52.970001  53.599998  53.500000  12546500.0  42.856926"
      ]
     },
     "execution_count": 4,
     "metadata": {},
     "output_type": "execute_result"
    }
   ],
   "source": [
    "print(BofA.shape)\n",
    "BofA.head()"
   ]
  },
  {
   "cell_type": "code",
   "execution_count": 5,
   "metadata": {},
   "outputs": [
    {
     "data": {
      "image/png": "[encoded data removed]",
      "text/plain": [
       "<Figure size 432x288 with 1 Axes>"
      ]
     },
     "metadata": {
      "needs_background": "light"
     },
     "output_type": "display_data"
    }
   ],
   "source": [
    "#compute log returns\n",
    "JPMorgan['Log']=np.log(JPMorgan['Adj Close'])\n",
    "Returns=np.diff(JPMorgan['Log'])*100\n",
    "#We assume the first return  to be 0\n",
    "Returns=np.append(0,Returns)\n",
    "JPMorgan['Returns']=Returns\n",
    "\n",
    "plt.plot(JPMorgan['Returns'],color='black')\n",
    "plt.title('JPMorgan returns')\n",
    "plt.show()"
   ]
  },
  {
   "cell_type": "code",
   "execution_count": 6,
   "metadata": {},
   "outputs": [
    {
     "data": {
      "image/png": "[encoded data removed]",
      "text/plain": [
       "<Figure size 432x288 with 1 Axes>"
      ]
     },
     "metadata": {
      "needs_background": "light"
     },
     "output_type": "display_data"
    }
   ],
   "source": [
    "#compute log returns\n",
    "BofA['Log']=np.log(BofA['Adj Close'])\n",
    "Returns=np.diff(BofA['Log'])*100\n",
    "#We assume the first return  to be 0\n",
    "Returns=np.append(0,Returns)\n",
    "BofA['Returns']=Returns\n",
    "\n",
    "plt.plot(BofA['Returns'],color='black')\n",
    "plt.title('BofA returns')\n",
    "plt.show()"
   ]
  },
  {
   "cell_type": "code",
   "execution_count": 7,
   "metadata": {},
   "outputs": [
    {
     "data": {
      "image/png": "[encoded data removed]",
      "text/plain": [
       "<Figure size 432x288 with 1 Axes>"
      ]
     },
     "metadata": {
      "needs_background": "light"
     },
     "output_type": "display_data"
    },
    {
     "name": "stdout",
     "output_type": "stream",
     "text": [
      "\n"
     ]
    }
   ],
   "source": [
    "mdata = pd.concat([JPMorgan['Returns'], BofA['Returns']], axis=1)\n",
    "mdata = mdata.values\n",
    "plt.scatter(mdata[:,0] ,mdata[:,1]  , s=30, facecolors='none', edgecolors='black')\n",
    "plt.show()\n",
    "print()\n"
   ]
  },
  {
   "cell_type": "code",
   "execution_count": 8,
   "metadata": {},
   "outputs": [
    {
     "name": "stdout",
     "output_type": "stream",
     "text": [
      "[[1.         0.81804208]\n",
      " [0.81804208 1.        ]]\n"
     ]
    },
    {
     "data": {
      "text/plain": [
       "DescribeResult(nobs=3081, minmax=(array([-23.2278068 , -34.20587515]), array([22.39168436, 30.20955921])), mean=array([ 0.03390848, -0.01419121]), variance=array([ 6.5178678 , 11.59237467]), skewness=array([ 0.31956845, -0.31439584]), kurtosis=array([16.08925413, 22.05870928]))"
      ]
     },
     "execution_count": 8,
     "metadata": {},
     "output_type": "execute_result"
    }
   ],
   "source": [
    "correlation = np.corrcoef(mdata[:,0],mdata[:,1])\n",
    "print(correlation)\n",
    "stats.describe(mdata)"
   ]
  },
  {
   "cell_type": "code",
   "execution_count": 9,
   "metadata": {},
   "outputs": [
    {
     "data": {
      "image/png": "[encoded data removed]",
      "text/plain": [
       "<Figure size 432x288 with 1 Axes>"
      ]
     },
     "metadata": {
      "needs_background": "light"
     },
     "output_type": "display_data"
    }
   ],
   "source": [
    "\n",
    "#EWMA in Python, as the is not a package for DCC\n",
    "# subtract mean to the returns as we assume the returns model is a constant\n",
    "mdata[:,0] = mdata[:,0]-np.mean(mdata[:,0])                       \n",
    "mdata[:,1] = mdata[:,1]-np.mean(mdata[:,1])\n",
    "T = len(mdata[:,0])\n",
    "EWMA = np.full([T,3], np.nan)\n",
    "#you can change the lambda to weight more the past variance or the past return\n",
    "lmbda = 0.94\n",
    "S = np.cov(mdata, rowvar = False)\n",
    "EWMA[0,] = S.flatten()[[0,3,1]]\n",
    "for i in range(1,T):\n",
    "    S = lmbda * S + (1-lmbda) * np.transpose(np.asmatrix(mdata[i-1]))* np.asmatrix(mdata[i-1])\n",
    "    EWMA[i,] = [S[0,0], S[1,1], S[0,1]]\n",
    "EWMArho = np.divide(EWMA[:,2], np.sqrt(np.multiply(EWMA[:,0],EWMA[:,1])))\n",
    "plt.plot(EWMArho,color='black')\n",
    "plt.show()\n",
    "#this plot is quite the same as obtained in R with the DCC model"
   ]
  },
  {
   "cell_type": "code",
   "execution_count": null,
   "metadata": {},
   "outputs": [],
   "source": []
  }
 ],
 "metadata": {
  "kernelspec": {
   "display_name": "Python 3",
   "language": "python",
   "name": "python3"
  },
  "language_info": {
   "codemirror_mode": {
    "name": "ipython",
    "version": 3
   },
   "file_extension": ".py",
   "mimetype": "text/x-python",
   "name": "python",
   "nbconvert_exporter": "python",
   "pygments_lexer": "ipython3",
   "version": "3.7.6"
  }
 },
 "nbformat": 4,
 "nbformat_minor": 2
}
