{
 "cells": [
  {
   "cell_type": "markdown",
   "metadata": {},
   "source": [
    "# Homework 4\n",
    "\n",
    "Raphaël Attali, Camille Morand-Duval, Niels Nicolas, Debdeep Roy"
   ]
  },
  {
   "cell_type": "markdown",
   "metadata": {},
   "source": [
    "# Twitter sentiment index, index market returns and Granger causality\n",
    "\n",
    "Financial markets react to news in various ways. The question here is if or how Tweets actually impact a broad stock market index. The May 7, 2019 Wall Steet Journal article ”Stocks Sink as Trade Tensions Mount” writes for example: ”The market will be pretty volatile in the next week or two reacting to headlines and comments and tweets.” Or on May 1, 2020, The Wall Street Journal article heads ’Elon Musk Tweeted That Tesla’s Stock Was Too High. The Market Agreed.’ In order to investigate if such impact is not only anecdotal but also true over longer periods, you will need to create a Twitter  sentiment time series, study its dynamic properties, and relate it to the stock market. The way you construct your sentiment time series is deliberately left to you."
   ]
  },
  {
   "cell_type": "code",
   "execution_count": 2,
   "metadata": {},
   "outputs": [],
   "source": [
    "import GetOldTweets3 as got\n",
    "import pandas as pd\n",
    "import csv\n",
    "from datetime import date, timedelta, datetime\n",
    "import re \n",
    "import nltk\n",
    "\n",
    "import matplotlib.pyplot as plt\n",
    "import seaborn as sns\n",
    "sns.set()\n",
    "\n",
    "import statsmodels.api as sm\n",
    "from statsmodels.tsa.stattools import acf, pacf"
   ]
  },
  {
   "cell_type": "markdown",
   "metadata": {},
   "source": [
    "## Question 1\n",
    "Extract from Twitter, daily tweets from people you might think influence the US stock market, e.g. Donald Trump. Note that rather than an index you can also take a stock like Tesla and check Elon Musk’s Tweets. Or aggregate sentiments from various people. Try to go back a couple of years in the past."
   ]
  },
  {
   "cell_type": "markdown",
   "metadata": {},
   "source": [
    "#### Comment\n",
    "we chose to look into Elon Musk's tweets and their effect on Tesla's stock. We used this person because it has been shown that the behaviour of Elon Musk affects Tesla's stock. At repetition his action have caused drops in Tesla's stock, when he smoked pot during a podcast the stock closed down 6% or, more recently, when he tweeted 'Tesla stock price is too high imo' on may 1st and the stock fell by more than 10%. \n",
    "\n",
    "Additionally, we explored alternatives such as the public opinion of Musk (collecting 20 tweets per day and evaluating the sentiment on it). The results were inconclusive with that study. "
   ]
  },
  {
   "cell_type": "markdown",
   "metadata": {},
   "source": [
    "### Extract tweets"
   ]
  },
  {
   "cell_type": "code",
   "execution_count": null,
   "metadata": {
    "scrolled": false
   },
   "outputs": [],
   "source": [
    "with open(\"data/dummy.csv\", 'w', encoding=\"utf-8\") as f:\n",
    "    # Wrap the file object by the writer.\n",
    "    writer = csv.writer(f)\n",
    "    \n",
    "    # Write the header line to the output if needed.\n",
    "    writer.writerow(['date', 'tweet'])\n",
    "    \n",
    "    start = date(2020, 5, 22)\n",
    "    end = date.today()\n",
    "    day = timedelta(days=1)\n",
    "\n",
    "    mydate = start\n",
    "    \n",
    "    while mydate < end:\n",
    "        print(\"{date.day:02}{date.month:02}{date.year}\".format(date=mydate))\n",
    "        \n",
    "        tweetCriteria = got.manager.TweetCriteria().setUsername('elonmusk')\\\n",
    "                                           .setSince((\"{date.year}-{date.month:02}-{date.day:02}\".format(date=mydate)))\\\n",
    "                                           .setUntil((\"{date.year}-{date.month:02}-{date.day:02}\".format(date=mydate+day)))\\\n",
    "                                           .setTopTweets(True)\\\n",
    "                                           .setMaxTweets(240)\n",
    "        \n",
    "        mydate = mydate + day\n",
    "        \n",
    "    \n",
    "        # Loop through the dictionary and get the tuples.\n",
    "        # You may want to sort it somehow. Not shown here.\n",
    "        for tweets in got.manager.TweetManager.getTweets(tweetCriteria):\n",
    "            #writer.writerow(t)\n",
    "\n",
    "            writer.writerow([tweets.date, tweets.text])"
   ]
  },
  {
   "cell_type": "code",
   "execution_count": null,
   "metadata": {},
   "outputs": [],
   "source": [
    "with open(\"data/dummy.csv\", 'w', encoding=\"utf-8\") as f:\n",
    "    # Wrap the file object by the writer.\n",
    "    writer = csv.writer(f)\n",
    "    \n",
    "    # Write the header line to the output if needed.\n",
    "    writer.writerow(['date', 'tweet'])\n",
    "    \n",
    "    start = date(2019, 6, 1)\n",
    "    end = date.today()\n",
    "    day = timedelta(days=1)\n",
    "\n",
    "    mydate = start\n",
    "    \n",
    "    while mydate < end:\n",
    "        print(\"{date.day:02}{date.month:02}{date.year}\".format(date=mydate))\n",
    "        \n",
    "        tweetCriteria = got.manager.TweetCriteria().setQuerySearch('Musk')\\\n",
    "                                           .setSince((\"{date.year}-{date.month:02}-{date.day:02}\".format(date=mydate)))\\\n",
    "                                           .setUntil((\"{date.year}-{date.month:02}-{date.day:02}\".format(date=mydate+day)))\\\n",
    "                                           .setTopTweets(True)\\\n",
    "                                           .setMaxTweets(20)\n",
    "        \n",
    "        mydate = mydate + day\n",
    "        \n",
    "    \n",
    "        # Loop through the dictionary and get the tuples.\n",
    "        # You may want to sort it somehow. Not shown here.\n",
    "        for tweets in got.manager.TweetManager.getTweets(tweetCriteria):\n",
    "            #writer.writerow(t)\n",
    "\n",
    "            writer.writerow([tweets.date, tweets.text])"
   ]
  },
  {
   "cell_type": "markdown",
   "metadata": {},
   "source": [
    "### From csv"
   ]
  },
  {
   "cell_type": "code",
   "execution_count": 3,
   "metadata": {},
   "outputs": [],
   "source": [
    "# elonmusk tweets\n",
    "tweets = pd.read_csv('data/tesla.csv')\n",
    "tweets.replace(\" \", float(\"NaN\"), inplace=True)\n",
    "tweets.dropna(axis = 0, how ='any', inplace = True) # remove NA values"
   ]
  },
  {
   "cell_type": "code",
   "execution_count": 4,
   "metadata": {},
   "outputs": [
    {
     "data": {
      "text/html": [
       "<div>\n",
       "<style scoped>\n",
       "    .dataframe tbody tr th:only-of-type {\n",
       "        vertical-align: middle;\n",
       "    }\n",
       "\n",
       "    .dataframe tbody tr th {\n",
       "        vertical-align: top;\n",
       "    }\n",
       "\n",
       "    .dataframe thead th {\n",
       "        text-align: right;\n",
       "    }\n",
       "</style>\n",
       "<table border=\"1\" class=\"dataframe\">\n",
       "  <thead>\n",
       "    <tr style=\"text-align: right;\">\n",
       "      <th></th>\n",
       "      <th>date</th>\n",
       "      <th>tweet</th>\n",
       "    </tr>\n",
       "  </thead>\n",
       "  <tbody>\n",
       "    <tr>\n",
       "      <th>1</th>\n",
       "      <td>2019-06-01 23:44:47+00:00</td>\n",
       "      <td>We’re trying to simplify product complexity, s...</td>\n",
       "    </tr>\n",
       "    <tr>\n",
       "      <th>3</th>\n",
       "      <td>2019-06-01 00:35:15+00:00</td>\n",
       "      <td>Science</td>\n",
       "    </tr>\n",
       "    <tr>\n",
       "      <th>5</th>\n",
       "      <td>2019-06-01 00:05:02+00:00</td>\n",
       "      <td>Read it on @BBCScienceNews</td>\n",
       "    </tr>\n",
       "    <tr>\n",
       "      <th>9</th>\n",
       "      <td>2019-06-02 02:12:21+00:00</td>\n",
       "      <td>Exactly</td>\n",
       "    </tr>\n",
       "    <tr>\n",
       "      <th>11</th>\n",
       "      <td>2019-06-03 18:55:25+00:00</td>\n",
       "      <td>Only cars made in China are eligible for these...</td>\n",
       "    </tr>\n",
       "  </tbody>\n",
       "</table>\n",
       "</div>"
      ],
      "text/plain": [
       "                         date  \\\n",
       "1   2019-06-01 23:44:47+00:00   \n",
       "3   2019-06-01 00:35:15+00:00   \n",
       "5   2019-06-01 00:05:02+00:00   \n",
       "9   2019-06-02 02:12:21+00:00   \n",
       "11  2019-06-03 18:55:25+00:00   \n",
       "\n",
       "                                                tweet  \n",
       "1   We’re trying to simplify product complexity, s...  \n",
       "3                                            Science   \n",
       "5                          Read it on @BBCScienceNews  \n",
       "9                                             Exactly  \n",
       "11  Only cars made in China are eligible for these...  "
      ]
     },
     "execution_count": 4,
     "metadata": {},
     "output_type": "execute_result"
    }
   ],
   "source": [
    "tweets.head()"
   ]
  },
  {
   "cell_type": "code",
   "execution_count": 5,
   "metadata": {},
   "outputs": [],
   "source": [
    "# convert dates\n",
    "tweets['date'] = tweets['date'].apply(lambda x: datetime.strptime(x.split(\" \")[0], '%Y-%m-%d'))"
   ]
  },
  {
   "cell_type": "code",
   "execution_count": 6,
   "metadata": {},
   "outputs": [
    {
     "data": {
      "text/plain": [
       "(349,)"
      ]
     },
     "execution_count": 6,
     "metadata": {},
     "output_type": "execute_result"
    }
   ],
   "source": [
    "min(tweets['date'])\n",
    "tweets['date'].unique().shape"
   ]
  },
  {
   "cell_type": "code",
   "execution_count": 7,
   "metadata": {},
   "outputs": [
    {
     "data": {
      "text/html": [
       "<div>\n",
       "<style scoped>\n",
       "    .dataframe tbody tr th:only-of-type {\n",
       "        vertical-align: middle;\n",
       "    }\n",
       "\n",
       "    .dataframe tbody tr th {\n",
       "        vertical-align: top;\n",
       "    }\n",
       "\n",
       "    .dataframe thead th {\n",
       "        text-align: right;\n",
       "    }\n",
       "</style>\n",
       "<table border=\"1\" class=\"dataframe\">\n",
       "  <thead>\n",
       "    <tr style=\"text-align: right;\">\n",
       "      <th></th>\n",
       "      <th>date</th>\n",
       "      <th>tweet</th>\n",
       "    </tr>\n",
       "  </thead>\n",
       "  <tbody>\n",
       "    <tr>\n",
       "      <th>1</th>\n",
       "      <td>2019-06-01</td>\n",
       "      <td>We’re trying to simplify product complexity, s...</td>\n",
       "    </tr>\n",
       "    <tr>\n",
       "      <th>3</th>\n",
       "      <td>2019-06-01</td>\n",
       "      <td>Science</td>\n",
       "    </tr>\n",
       "    <tr>\n",
       "      <th>5</th>\n",
       "      <td>2019-06-01</td>\n",
       "      <td>Read it on @BBCScienceNews</td>\n",
       "    </tr>\n",
       "    <tr>\n",
       "      <th>9</th>\n",
       "      <td>2019-06-02</td>\n",
       "      <td>Exactly</td>\n",
       "    </tr>\n",
       "    <tr>\n",
       "      <th>11</th>\n",
       "      <td>2019-06-03</td>\n",
       "      <td>Only cars made in China are eligible for these...</td>\n",
       "    </tr>\n",
       "  </tbody>\n",
       "</table>\n",
       "</div>"
      ],
      "text/plain": [
       "         date                                              tweet\n",
       "1  2019-06-01  We’re trying to simplify product complexity, s...\n",
       "3  2019-06-01                                           Science \n",
       "5  2019-06-01                         Read it on @BBCScienceNews\n",
       "9  2019-06-02                                            Exactly\n",
       "11 2019-06-03  Only cars made in China are eligible for these..."
      ]
     },
     "execution_count": 7,
     "metadata": {},
     "output_type": "execute_result"
    }
   ],
   "source": [
    "tweets.head()"
   ]
  },
  {
   "cell_type": "code",
   "execution_count": 8,
   "metadata": {},
   "outputs": [
    {
     "data": {
      "text/html": [
       "<div>\n",
       "<style scoped>\n",
       "    .dataframe tbody tr th:only-of-type {\n",
       "        vertical-align: middle;\n",
       "    }\n",
       "\n",
       "    .dataframe tbody tr th {\n",
       "        vertical-align: top;\n",
       "    }\n",
       "\n",
       "    .dataframe thead th {\n",
       "        text-align: right;\n",
       "    }\n",
       "</style>\n",
       "<table border=\"1\" class=\"dataframe\">\n",
       "  <thead>\n",
       "    <tr style=\"text-align: right;\">\n",
       "      <th></th>\n",
       "      <th>date</th>\n",
       "      <th>tweet</th>\n",
       "    </tr>\n",
       "  </thead>\n",
       "  <tbody>\n",
       "    <tr>\n",
       "      <th>0</th>\n",
       "      <td>2019-06-01</td>\n",
       "      <td>Just continue to build affordable desirable lo...</td>\n",
       "    </tr>\n",
       "    <tr>\n",
       "      <th>1</th>\n",
       "      <td>2019-06-01</td>\n",
       "      <td>Just resign already elon</td>\n",
       "    </tr>\n",
       "    <tr>\n",
       "      <th>2</th>\n",
       "      <td>2019-06-01</td>\n",
       "      <td>So Australia is a high volume market?</td>\n",
       "    </tr>\n",
       "    <tr>\n",
       "      <th>3</th>\n",
       "      <td>2019-06-01</td>\n",
       "      <td>??? Dana is great, she can tweet what she sees...</td>\n",
       "    </tr>\n",
       "    <tr>\n",
       "      <th>4</th>\n",
       "      <td>2019-06-01</td>\n",
       "      <td>Text on Starlink website def sounds like you</td>\n",
       "    </tr>\n",
       "  </tbody>\n",
       "</table>\n",
       "</div>"
      ],
      "text/plain": [
       "        date                                              tweet\n",
       "0 2019-06-01  Just continue to build affordable desirable lo...\n",
       "1 2019-06-01                           Just resign already elon\n",
       "2 2019-06-01             So Australia is a high volume market? \n",
       "3 2019-06-01  ??? Dana is great, she can tweet what she sees...\n",
       "4 2019-06-01      Text on Starlink website def sounds like you "
      ]
     },
     "execution_count": 8,
     "metadata": {},
     "output_type": "execute_result"
    }
   ],
   "source": [
    "# public opinion\n",
    "musk = pd.read_csv('data/Musk.csv')\n",
    "musk.replace(\" \", float(\"NaN\"), inplace=True)\n",
    "musk.dropna(axis = 0, how ='any', inplace = True) # remove NA values\n",
    "\n",
    "# convert dates\n",
    "musk['date'] = musk['date'].apply(lambda x: datetime.strptime(x.split(\" \")[0], '%Y-%m-%d'))\n",
    "\n",
    "musk.head()"
   ]
  },
  {
   "cell_type": "markdown",
   "metadata": {},
   "source": [
    "### Extract stock values"
   ]
  },
  {
   "cell_type": "code",
   "execution_count": 9,
   "metadata": {},
   "outputs": [
    {
     "name": "stderr",
     "output_type": "stream",
     "text": [
      "C:\\Users\\Camille\\anaconda3\\lib\\site-packages\\pandas_datareader\\compat\\__init__.py:7: FutureWarning: pandas.util.testing is deprecated. Use the functions in the public API at pandas.testing instead.\n",
      "  from pandas.util.testing import assert_frame_equal\n"
     ]
    }
   ],
   "source": [
    "# import external pandas_datareader library with alias of web\n",
    "import pandas_datareader as web\n",
    " \n",
    "# import datetime internal datetime module\n",
    "# datetime is a Python module\n",
    "import datetime\n",
    " \n",
    "# datetime.datetime is a data type within the datetime module\n",
    "start = datetime.datetime(2019, 5, 31)\n",
    "end = datetime.datetime(2020, 6, 21)\n",
    " \n",
    "# DataReader method name is case sensitive\n",
    "stocks = web.DataReader(\"tsla\", 'yahoo', start, end)"
   ]
  },
  {
   "cell_type": "markdown",
   "metadata": {},
   "source": [
    "## Question 2\n",
    "Do the necessary cleaning of the tweets and create a daily sentiment index time series. Explain your approach (number of tweets, number of words per tweets, etc)."
   ]
  },
  {
   "cell_type": "markdown",
   "metadata": {},
   "source": [
    "#### Comment: \n",
    "\n",
    "To create a sentiment index time series, we used the NLTK library for cleaning, normalizing, lemmatization, tokenisation and sentiment analysis. This library includes dictionaries which can be used to train models for tweets' sentiment analysis. In this case, we used the positive tweet token library for training Naive Bayesian Classifier and achieved an accuracy of 0.993. \n",
    "\n",
    "For cleaning, we removed punctuation, stop words and symbols. We decided to keep only relevant tweets meaning tweets which length are strictly above 2 words. The output of the sentiment analysis is a probability of being positive. Therefore, the score computed for each tweet is between 0 and 1. \n",
    "\n",
    "Finally, the step which affected the reliability of the model the most is the daily aggregation. We tested a few methods, the best one being a weighted average of the sentiment scores by the length (number of words in a tweet). Other methods included ratio of the positive tweets (probability above 0.5) over all tweets in a day, keeping only tweets which included the word 'Tesla', standard average of the sentiment scores and sum of the sentiment scores. "
   ]
  },
  {
   "cell_type": "markdown",
   "metadata": {},
   "source": [
    "### Import twitter samples for training"
   ]
  },
  {
   "cell_type": "code",
   "execution_count": 10,
   "metadata": {},
   "outputs": [
    {
     "name": "stderr",
     "output_type": "stream",
     "text": [
      "[nltk_data] Downloading package twitter_samples to\n",
      "[nltk_data]     C:\\Users\\Camille\\AppData\\Roaming\\nltk_data...\n",
      "[nltk_data]   Package twitter_samples is already up-to-date!\n",
      "[nltk_data] Downloading package punkt to\n",
      "[nltk_data]     C:\\Users\\Camille\\AppData\\Roaming\\nltk_data...\n",
      "[nltk_data]   Package punkt is already up-to-date!\n"
     ]
    }
   ],
   "source": [
    "nltk.download('twitter_samples')\n",
    "nltk.download('punkt')\n",
    "from nltk.corpus import twitter_samples\n",
    "\n",
    "positive_tweets = twitter_samples.strings('positive_tweets.json')\n",
    "negative_tweets = twitter_samples.strings('negative_tweets.json')\n",
    "\n",
    "tweet_tokens = twitter_samples.tokenized('positive_tweets.json')"
   ]
  },
  {
   "cell_type": "markdown",
   "metadata": {},
   "source": [
    "### Normalizing"
   ]
  },
  {
   "cell_type": "code",
   "execution_count": 11,
   "metadata": {},
   "outputs": [
    {
     "name": "stderr",
     "output_type": "stream",
     "text": [
      "[nltk_data] Downloading package wordnet to\n",
      "[nltk_data]     C:\\Users\\Camille\\AppData\\Roaming\\nltk_data...\n",
      "[nltk_data]   Package wordnet is already up-to-date!\n",
      "[nltk_data] Downloading package averaged_perceptron_tagger to\n",
      "[nltk_data]     C:\\Users\\Camille\\AppData\\Roaming\\nltk_data...\n",
      "[nltk_data]   Package averaged_perceptron_tagger is already up-to-\n",
      "[nltk_data]       date!\n"
     ]
    },
    {
     "data": {
      "text/plain": [
       "True"
      ]
     },
     "execution_count": 11,
     "metadata": {},
     "output_type": "execute_result"
    }
   ],
   "source": [
    "nltk.download('wordnet')\n",
    "nltk.download('averaged_perceptron_tagger')"
   ]
  },
  {
   "cell_type": "markdown",
   "metadata": {},
   "source": [
    "### Lemmatization"
   ]
  },
  {
   "cell_type": "code",
   "execution_count": 12,
   "metadata": {},
   "outputs": [
    {
     "name": "stdout",
     "output_type": "stream",
     "text": [
      "['#FollowFriday', '@France_Inte', '@PKuchly57', '@Milipol_Paris', 'for', 'being', 'top', 'engaged', 'members', 'in', 'my', 'community', 'this', 'week', ':)']\n",
      "['#FollowFriday', '@France_Inte', '@PKuchly57', '@Milipol_Paris', 'for', 'be', 'top', 'engage', 'member', 'in', 'my', 'community', 'this', 'week', ':)']\n"
     ]
    }
   ],
   "source": [
    "from nltk.tag import pos_tag\n",
    "from nltk.stem.wordnet import WordNetLemmatizer\n",
    "\n",
    "def lemmatize_sentence(tokens):\n",
    "    lemmatizer = WordNetLemmatizer()\n",
    "    lemmatized_sentence = []\n",
    "    for word, tag in pos_tag(tokens):\n",
    "        if tag.startswith('NN'):\n",
    "            pos = 'n'\n",
    "        elif tag.startswith('VB'):\n",
    "            pos = 'v'\n",
    "        else:\n",
    "            pos = 'a'\n",
    "        lemmatized_sentence.append(lemmatizer.lemmatize(word, pos))\n",
    "    return lemmatized_sentence\n",
    "\n",
    "print(tweet_tokens[0])\n",
    "print(lemmatize_sentence(tweet_tokens[0]))"
   ]
  },
  {
   "cell_type": "markdown",
   "metadata": {},
   "source": [
    "### Cleaning"
   ]
  },
  {
   "cell_type": "code",
   "execution_count": 13,
   "metadata": {},
   "outputs": [],
   "source": [
    "import re, string\n",
    "def remove_noise(tweet_tokens, stop_words = ()):\n",
    "\n",
    "    cleaned_tokens = []\n",
    "\n",
    "    for token, tag in pos_tag(tweet_tokens):\n",
    "        token = re.sub('http[s]?://(?:[a-zA-Z]|[0-9]|[$-_@.&+#]|[!*\\(\\),]|'\\\n",
    "                       '(?:%[0-9a-fA-F][0-9a-fA-F]))+','', token)\n",
    "        token = re.sub(\"(@[A-Za-z0-9_]+)\",\"\", token)\n",
    "\n",
    "        if tag.startswith(\"NN\"):\n",
    "            pos = 'n'\n",
    "        elif tag.startswith('VB'):\n",
    "            pos = 'v'\n",
    "        else:\n",
    "            pos = 'a'\n",
    "\n",
    "        lemmatizer = WordNetLemmatizer()\n",
    "        token = lemmatizer.lemmatize(token, pos)\n",
    "\n",
    "        if len(token) > 0 and token not in string.punctuation and token.lower() not in stop_words:\n",
    "            cleaned_tokens.append(token.lower())\n",
    "    return cleaned_tokens"
   ]
  },
  {
   "cell_type": "code",
   "execution_count": 14,
   "metadata": {},
   "outputs": [
    {
     "name": "stdout",
     "output_type": "stream",
     "text": [
      "['#followfriday', 'top', 'engage', 'member', 'community', 'week', ':)']\n"
     ]
    },
    {
     "name": "stderr",
     "output_type": "stream",
     "text": [
      "[nltk_data] Downloading package stopwords to\n",
      "[nltk_data]     C:\\Users\\Camille\\AppData\\Roaming\\nltk_data...\n",
      "[nltk_data]   Package stopwords is already up-to-date!\n"
     ]
    }
   ],
   "source": [
    "nltk.download('stopwords')\n",
    "\n",
    "from nltk.corpus import stopwords\n",
    "stop_words = stopwords.words('english')\n",
    "\n",
    "print(remove_noise(tweet_tokens[0], stop_words))"
   ]
  },
  {
   "cell_type": "markdown",
   "metadata": {},
   "source": [
    "### Apply on training data"
   ]
  },
  {
   "cell_type": "code",
   "execution_count": 15,
   "metadata": {},
   "outputs": [],
   "source": [
    "positive_tweet_tokens = twitter_samples.tokenized('positive_tweets.json')\n",
    "negative_tweet_tokens = twitter_samples.tokenized('negative_tweets.json')\n",
    "\n",
    "positive_cleaned_tokens_list = []\n",
    "negative_cleaned_tokens_list = []\n",
    "\n",
    "for tokens in positive_tweet_tokens:\n",
    "    positive_cleaned_tokens_list.append(remove_noise(tokens, stop_words))\n",
    "\n",
    "for tokens in negative_tweet_tokens:\n",
    "    negative_cleaned_tokens_list.append(remove_noise(tokens, stop_words))"
   ]
  },
  {
   "cell_type": "code",
   "execution_count": 16,
   "metadata": {},
   "outputs": [],
   "source": [
    "def get_tweets_for_model(cleaned_tokens_list):\n",
    "    for tweet_tokens in cleaned_tokens_list:\n",
    "        yield dict([token, True] for token in tweet_tokens)\n",
    "\n",
    "positive_tokens_for_model = get_tweets_for_model(positive_cleaned_tokens_list)\n",
    "negative_tokens_for_model = get_tweets_for_model(negative_cleaned_tokens_list)"
   ]
  },
  {
   "cell_type": "markdown",
   "metadata": {},
   "source": [
    "### Training & Testing Naive Bayes Classifier for sentiment analysis "
   ]
  },
  {
   "cell_type": "code",
   "execution_count": 17,
   "metadata": {},
   "outputs": [],
   "source": [
    "import random\n",
    "\n",
    "positive_dataset = [(tweet_dict, \"Positive\")\n",
    "                     for tweet_dict in positive_tokens_for_model]\n",
    "\n",
    "negative_dataset = [(tweet_dict, \"Negative\")\n",
    "                     for tweet_dict in negative_tokens_for_model]\n",
    "\n",
    "dataset = positive_dataset + negative_dataset\n",
    "\n",
    "random.shuffle(dataset)\n",
    "\n",
    "train_data = dataset[:7000]\n",
    "test_data = dataset[7000:]"
   ]
  },
  {
   "cell_type": "code",
   "execution_count": 18,
   "metadata": {},
   "outputs": [
    {
     "name": "stdout",
     "output_type": "stream",
     "text": [
      "Accuracy is: 0.997\n",
      "Most Informative Features\n",
      "                      :( = True           Negati : Positi =   2093.0 : 1.0\n",
      "                      :) = True           Positi : Negati =   1625.4 : 1.0\n",
      "                followed = True           Negati : Positi =     24.2 : 1.0\n",
      "                follower = True           Positi : Negati =     21.7 : 1.0\n",
      "                     bam = True           Positi : Negati =     20.5 : 1.0\n",
      "                     sad = True           Negati : Positi =     19.2 : 1.0\n",
      "                     x15 = True           Negati : Positi =     17.4 : 1.0\n",
      "               community = True           Positi : Negati =     14.7 : 1.0\n",
      "                    damn = True           Negati : Positi =     14.0 : 1.0\n",
      "                 awesome = True           Positi : Negati =     13.1 : 1.0\n",
      "None\n"
     ]
    }
   ],
   "source": [
    "from nltk import classify\n",
    "from nltk import NaiveBayesClassifier\n",
    "classifier = NaiveBayesClassifier.train(train_data)\n",
    "\n",
    "print(\"Accuracy is:\", classify.accuracy(classifier, test_data))\n",
    "print(classifier.show_most_informative_features(10))"
   ]
  },
  {
   "cell_type": "markdown",
   "metadata": {},
   "source": [
    "### Application to Elon Musk tweets"
   ]
  },
  {
   "cell_type": "code",
   "execution_count": 19,
   "metadata": {},
   "outputs": [],
   "source": [
    "#from nltk.tokenize import word_tokenize\n",
    "\n",
    "#custom_tweet = \"I ordered just once from TerribleCo, they screwed up, never used the app again.\"\n",
    "#custom_tokens = remove_noise(word_tokenize(custom_tweet))\n",
    "#dist = classifier.prob_classify(dict([token, True] for token in custom_tokens))\n",
    "\n",
    "#print(dist.prob(\"Positive\"))\n",
    "#print(dist.prob(\"Negative\"))"
   ]
  },
  {
   "cell_type": "code",
   "execution_count": 20,
   "metadata": {},
   "outputs": [],
   "source": [
    "from nltk.tokenize import word_tokenize\n",
    "\n",
    "def sentiment_analysis(tweet):\n",
    "    tweet = remove_noise(word_tokenize(str(tweet)))\n",
    "    dist = classifier.prob_classify(dict([token, True] for token in tweet))\n",
    "    sentiment = dist.prob(\"Positive\")\n",
    "    return sentiment\n",
    "\n",
    "tweets['sentiment'] = tweets['tweet'].apply(lambda x: sentiment_analysis(x))"
   ]
  },
  {
   "cell_type": "code",
   "execution_count": 21,
   "metadata": {},
   "outputs": [],
   "source": [
    "# length of tweet\n",
    "tweets['length'] = tweets['tweet'].apply(lambda x: len(str(x).split(\" \")))"
   ]
  },
  {
   "cell_type": "code",
   "execution_count": 22,
   "metadata": {},
   "outputs": [
    {
     "data": {
      "text/html": [
       "<div>\n",
       "<style scoped>\n",
       "    .dataframe tbody tr th:only-of-type {\n",
       "        vertical-align: middle;\n",
       "    }\n",
       "\n",
       "    .dataframe tbody tr th {\n",
       "        vertical-align: top;\n",
       "    }\n",
       "\n",
       "    .dataframe thead th {\n",
       "        text-align: right;\n",
       "    }\n",
       "</style>\n",
       "<table border=\"1\" class=\"dataframe\">\n",
       "  <thead>\n",
       "    <tr style=\"text-align: right;\">\n",
       "      <th></th>\n",
       "      <th>date</th>\n",
       "      <th>tweet</th>\n",
       "      <th>sentiment</th>\n",
       "      <th>length</th>\n",
       "    </tr>\n",
       "  </thead>\n",
       "  <tbody>\n",
       "    <tr>\n",
       "      <th>1</th>\n",
       "      <td>2019-06-01</td>\n",
       "      <td>We’re trying to simplify product complexity, s...</td>\n",
       "      <td>0.960806</td>\n",
       "      <td>19</td>\n",
       "    </tr>\n",
       "    <tr>\n",
       "      <th>3</th>\n",
       "      <td>2019-06-01</td>\n",
       "      <td>Science</td>\n",
       "      <td>0.785715</td>\n",
       "      <td>2</td>\n",
       "    </tr>\n",
       "    <tr>\n",
       "      <th>5</th>\n",
       "      <td>2019-06-01</td>\n",
       "      <td>Read it on @BBCScienceNews</td>\n",
       "      <td>0.625001</td>\n",
       "      <td>4</td>\n",
       "    </tr>\n",
       "    <tr>\n",
       "      <th>9</th>\n",
       "      <td>2019-06-02</td>\n",
       "      <td>Exactly</td>\n",
       "      <td>0.583334</td>\n",
       "      <td>1</td>\n",
       "    </tr>\n",
       "    <tr>\n",
       "      <th>11</th>\n",
       "      <td>2019-06-03</td>\n",
       "      <td>Only cars made in China are eligible for these...</td>\n",
       "      <td>0.524558</td>\n",
       "      <td>17</td>\n",
       "    </tr>\n",
       "  </tbody>\n",
       "</table>\n",
       "</div>"
      ],
      "text/plain": [
       "         date                                              tweet  sentiment  \\\n",
       "1  2019-06-01  We’re trying to simplify product complexity, s...   0.960806   \n",
       "3  2019-06-01                                           Science    0.785715   \n",
       "5  2019-06-01                         Read it on @BBCScienceNews   0.625001   \n",
       "9  2019-06-02                                            Exactly   0.583334   \n",
       "11 2019-06-03  Only cars made in China are eligible for these...   0.524558   \n",
       "\n",
       "    length  \n",
       "1       19  \n",
       "3        2  \n",
       "5        4  \n",
       "9        1  \n",
       "11      17  "
      ]
     },
     "execution_count": 22,
     "metadata": {},
     "output_type": "execute_result"
    }
   ],
   "source": [
    "tweets.head()"
   ]
  },
  {
   "cell_type": "code",
   "execution_count": 23,
   "metadata": {},
   "outputs": [],
   "source": [
    "# keeping only tweets with more than two words\n",
    "tweets = tweets[tweets['length']>2]\n",
    "\n",
    "# Tesla mentionned ? \n",
    "#tweets['tesla'] = tweets['tweet'].apply(lambda x: 'Tesla' in x)\n",
    "#tweets['tesla'] = tweets['tesla'].apply(lambda x: 1 if (x == True) else 0)\n",
    "#tweets = tweets[tweets['tesla'] == 1]\n",
    "\n",
    "# Sentiment by 1 or 0\n",
    "tweets['bol_sentiment'] = tweets['sentiment'].apply(lambda x: 1 if (x >= 0.5) else 0)\n",
    "tweets['count'] = 1"
   ]
  },
  {
   "cell_type": "markdown",
   "metadata": {},
   "source": [
    "#### Aggregate per day"
   ]
  },
  {
   "cell_type": "code",
   "execution_count": 24,
   "metadata": {},
   "outputs": [],
   "source": [
    "import numpy as np\n",
    "# weighted average using the length of tweets\n",
    "tweets_day = tweets.groupby(['date']).apply(lambda x: pd.Series([np.average(x['sentiment'], weights=x['length'])], index=['sentiment'])).unstack()\n",
    "\n",
    "# average sentiment over a day\n",
    "#tweets_day = tweets.groupby(['date']).apply(lambda x: pd.Series([np.average(x['sentiment'])], index=['sentiment'])).unstack()\n",
    "\n",
    "# sum sentiment over a day\n",
    "#tweets_day = tweets.groupby(['date']).apply(lambda x: pd.Series([np.sum(x['sentiment'])], index=['sentiment'])).unstack()\n",
    "\n",
    "# ratio tesla only\n",
    "#tweets_day = tweets.groupby(['date']).apply(lambda x: pd.Series([np.sum(x['bol_sentiment']) / np.sum(x['tesla'])], index=['sentiment'])).unstack()\n",
    "\n",
    "# ratio all tweets\n",
    "#tweets_day = tweets.groupby(['date']).apply(lambda x: pd.Series([np.sum(x['bol_sentiment']) / np.sum(x['count'])], index=['sentiment'])).unstack()\n",
    "\n",
    "tweets_day = pd.DataFrame(tweets_day).reset_index().drop(columns=['level_0']).rename(columns={0: 'score'})"
   ]
  },
  {
   "cell_type": "code",
   "execution_count": 25,
   "metadata": {},
   "outputs": [
    {
     "name": "stdout",
     "output_type": "stream",
     "text": [
      "max 0.9999090300282377\n",
      "min 0.010480124454637758\n",
      "shape (341, 2)\n"
     ]
    },
    {
     "data": {
      "text/html": [
       "<div>\n",
       "<style scoped>\n",
       "    .dataframe tbody tr th:only-of-type {\n",
       "        vertical-align: middle;\n",
       "    }\n",
       "\n",
       "    .dataframe tbody tr th {\n",
       "        vertical-align: top;\n",
       "    }\n",
       "\n",
       "    .dataframe thead th {\n",
       "        text-align: right;\n",
       "    }\n",
       "</style>\n",
       "<table border=\"1\" class=\"dataframe\">\n",
       "  <thead>\n",
       "    <tr style=\"text-align: right;\">\n",
       "      <th></th>\n",
       "      <th>date</th>\n",
       "      <th>score</th>\n",
       "    </tr>\n",
       "  </thead>\n",
       "  <tbody>\n",
       "    <tr>\n",
       "      <th>0</th>\n",
       "      <td>2019-06-01</td>\n",
       "      <td>0.902405</td>\n",
       "    </tr>\n",
       "    <tr>\n",
       "      <th>1</th>\n",
       "      <td>2019-06-03</td>\n",
       "      <td>0.524558</td>\n",
       "    </tr>\n",
       "    <tr>\n",
       "      <th>2</th>\n",
       "      <td>2019-06-04</td>\n",
       "      <td>0.334655</td>\n",
       "    </tr>\n",
       "    <tr>\n",
       "      <th>3</th>\n",
       "      <td>2019-06-05</td>\n",
       "      <td>0.971150</td>\n",
       "    </tr>\n",
       "    <tr>\n",
       "      <th>4</th>\n",
       "      <td>2019-06-07</td>\n",
       "      <td>0.741334</td>\n",
       "    </tr>\n",
       "  </tbody>\n",
       "</table>\n",
       "</div>"
      ],
      "text/plain": [
       "        date     score\n",
       "0 2019-06-01  0.902405\n",
       "1 2019-06-03  0.524558\n",
       "2 2019-06-04  0.334655\n",
       "3 2019-06-05  0.971150\n",
       "4 2019-06-07  0.741334"
      ]
     },
     "execution_count": 25,
     "metadata": {},
     "output_type": "execute_result"
    }
   ],
   "source": [
    "print('max', tweets_day['score'].max())\n",
    "print('min', tweets_day['score'].min())\n",
    "print('shape', tweets_day.shape)\n",
    "tweets_day.head()"
   ]
  },
  {
   "cell_type": "markdown",
   "metadata": {},
   "source": [
    "#### Sentiment index (score) vs. time"
   ]
  },
  {
   "cell_type": "code",
   "execution_count": 26,
   "metadata": {},
   "outputs": [
    {
     "data": {
      "text/plain": [
       "Text(0, 0.5, 'sentiment index')"
      ]
     },
     "execution_count": 26,
     "metadata": {},
     "output_type": "execute_result"
    },
    {
     "data": {
      "image/png": "[encoded data removed]",
      "text/plain": [
       "<Figure size 432x288 with 1 Axes>"
      ]
     },
     "metadata": {},
     "output_type": "display_data"
    }
   ],
   "source": [
    "plt.plot(tweets_day['date'], tweets_day['score'], color = 'darkblue')\n",
    "#plt.xlabel('date')\n",
    "plt.ylabel('sentiment index')"
   ]
  },
  {
   "cell_type": "markdown",
   "metadata": {},
   "source": [
    "### Query Search 'Musk'"
   ]
  },
  {
   "cell_type": "markdown",
   "metadata": {},
   "source": [
    "#### Comment\n",
    "This dataset was not kept for the final model. We applied the same sentiment analysis but we obtained no Granger Causality between the sentiment index and the Tesla stock log-returns. The aggregation between Elon Musk's tweets and public opinion was done though multiplication of the sentiment scores. "
   ]
  },
  {
   "cell_type": "code",
   "execution_count": 27,
   "metadata": {},
   "outputs": [],
   "source": [
    "musk['sentiment'] = musk['tweet'].apply(lambda x: sentiment_analysis(x))\n",
    "\n",
    "# length of tweet\n",
    "musk['length'] = musk['tweet'].apply(lambda x: len(str(x).split(\" \")))\n",
    "\n",
    "# keeping only tweets with more than two words\n",
    "musk = musk[musk['length']>2]\n",
    "\n",
    "# Sentiment by 1 or 0\n",
    "musk['bol_sentiment'] = musk['sentiment'].apply(lambda x: 1 if (x >= 0.5) else 0)\n",
    "musk['count'] = 1"
   ]
  },
  {
   "cell_type": "code",
   "execution_count": 28,
   "metadata": {},
   "outputs": [
    {
     "data": {
      "text/html": [
       "<div>\n",
       "<style scoped>\n",
       "    .dataframe tbody tr th:only-of-type {\n",
       "        vertical-align: middle;\n",
       "    }\n",
       "\n",
       "    .dataframe tbody tr th {\n",
       "        vertical-align: top;\n",
       "    }\n",
       "\n",
       "    .dataframe thead th {\n",
       "        text-align: right;\n",
       "    }\n",
       "</style>\n",
       "<table border=\"1\" class=\"dataframe\">\n",
       "  <thead>\n",
       "    <tr style=\"text-align: right;\">\n",
       "      <th></th>\n",
       "      <th>date</th>\n",
       "      <th>tweet</th>\n",
       "      <th>sentiment</th>\n",
       "      <th>length</th>\n",
       "      <th>bol_sentiment</th>\n",
       "      <th>count</th>\n",
       "    </tr>\n",
       "  </thead>\n",
       "  <tbody>\n",
       "    <tr>\n",
       "      <th>0</th>\n",
       "      <td>2019-06-01</td>\n",
       "      <td>Just continue to build affordable desirable lo...</td>\n",
       "      <td>0.975943</td>\n",
       "      <td>31</td>\n",
       "      <td>1</td>\n",
       "      <td>1</td>\n",
       "    </tr>\n",
       "    <tr>\n",
       "      <th>1</th>\n",
       "      <td>2019-06-01</td>\n",
       "      <td>Just resign already elon</td>\n",
       "      <td>0.361112</td>\n",
       "      <td>4</td>\n",
       "      <td>0</td>\n",
       "      <td>1</td>\n",
       "    </tr>\n",
       "    <tr>\n",
       "      <th>2</th>\n",
       "      <td>2019-06-01</td>\n",
       "      <td>So Australia is a high volume market?</td>\n",
       "      <td>0.958921</td>\n",
       "      <td>8</td>\n",
       "      <td>1</td>\n",
       "      <td>1</td>\n",
       "    </tr>\n",
       "    <tr>\n",
       "      <th>3</th>\n",
       "      <td>2019-06-01</td>\n",
       "      <td>??? Dana is great, she can tweet what she sees...</td>\n",
       "      <td>0.978268</td>\n",
       "      <td>12</td>\n",
       "      <td>1</td>\n",
       "      <td>1</td>\n",
       "    </tr>\n",
       "    <tr>\n",
       "      <th>4</th>\n",
       "      <td>2019-06-01</td>\n",
       "      <td>Text on Starlink website def sounds like you</td>\n",
       "      <td>0.590096</td>\n",
       "      <td>9</td>\n",
       "      <td>1</td>\n",
       "      <td>1</td>\n",
       "    </tr>\n",
       "  </tbody>\n",
       "</table>\n",
       "</div>"
      ],
      "text/plain": [
       "        date                                              tweet  sentiment  \\\n",
       "0 2019-06-01  Just continue to build affordable desirable lo...   0.975943   \n",
       "1 2019-06-01                           Just resign already elon   0.361112   \n",
       "2 2019-06-01             So Australia is a high volume market?    0.958921   \n",
       "3 2019-06-01  ??? Dana is great, she can tweet what she sees...   0.978268   \n",
       "4 2019-06-01      Text on Starlink website def sounds like you    0.590096   \n",
       "\n",
       "   length  bol_sentiment  count  \n",
       "0      31              1      1  \n",
       "1       4              0      1  \n",
       "2       8              1      1  \n",
       "3      12              1      1  \n",
       "4       9              1      1  "
      ]
     },
     "execution_count": 28,
     "metadata": {},
     "output_type": "execute_result"
    }
   ],
   "source": [
    "musk.head()"
   ]
  },
  {
   "cell_type": "markdown",
   "metadata": {},
   "source": [
    "#### Aggregate per day"
   ]
  },
  {
   "cell_type": "code",
   "execution_count": 29,
   "metadata": {},
   "outputs": [],
   "source": [
    "import numpy as np\n",
    "\n",
    "# average sentiment over a day\n",
    "musk_day = musk.groupby(['date']).apply(lambda x: pd.Series([np.average(x['sentiment'])], index=['sentiment'])).unstack()\n",
    "musk_day = pd.DataFrame(musk_day).reset_index().drop(columns=['level_0']).rename(columns={0: 'score'})"
   ]
  },
  {
   "cell_type": "code",
   "execution_count": 30,
   "metadata": {},
   "outputs": [
    {
     "name": "stdout",
     "output_type": "stream",
     "text": [
      "max 0.7922940525762235\n",
      "min 0.31883653338811524\n",
      "shape (387, 2)\n"
     ]
    },
    {
     "data": {
      "text/html": [
       "<div>\n",
       "<style scoped>\n",
       "    .dataframe tbody tr th:only-of-type {\n",
       "        vertical-align: middle;\n",
       "    }\n",
       "\n",
       "    .dataframe tbody tr th {\n",
       "        vertical-align: top;\n",
       "    }\n",
       "\n",
       "    .dataframe thead th {\n",
       "        text-align: right;\n",
       "    }\n",
       "</style>\n",
       "<table border=\"1\" class=\"dataframe\">\n",
       "  <thead>\n",
       "    <tr style=\"text-align: right;\">\n",
       "      <th></th>\n",
       "      <th>date</th>\n",
       "      <th>score</th>\n",
       "    </tr>\n",
       "  </thead>\n",
       "  <tbody>\n",
       "    <tr>\n",
       "      <th>0</th>\n",
       "      <td>2019-06-01</td>\n",
       "      <td>0.664051</td>\n",
       "    </tr>\n",
       "    <tr>\n",
       "      <th>1</th>\n",
       "      <td>2019-06-02</td>\n",
       "      <td>0.568323</td>\n",
       "    </tr>\n",
       "    <tr>\n",
       "      <th>2</th>\n",
       "      <td>2019-06-03</td>\n",
       "      <td>0.564120</td>\n",
       "    </tr>\n",
       "    <tr>\n",
       "      <th>3</th>\n",
       "      <td>2019-06-04</td>\n",
       "      <td>0.620452</td>\n",
       "    </tr>\n",
       "    <tr>\n",
       "      <th>4</th>\n",
       "      <td>2019-06-05</td>\n",
       "      <td>0.707051</td>\n",
       "    </tr>\n",
       "  </tbody>\n",
       "</table>\n",
       "</div>"
      ],
      "text/plain": [
       "        date     score\n",
       "0 2019-06-01  0.664051\n",
       "1 2019-06-02  0.568323\n",
       "2 2019-06-03  0.564120\n",
       "3 2019-06-04  0.620452\n",
       "4 2019-06-05  0.707051"
      ]
     },
     "execution_count": 30,
     "metadata": {},
     "output_type": "execute_result"
    }
   ],
   "source": [
    "print('max', musk_day['score'].max())\n",
    "print('min', musk_day['score'].min())\n",
    "print('shape', musk_day.shape)\n",
    "musk_day.head()"
   ]
  },
  {
   "cell_type": "markdown",
   "metadata": {},
   "source": [
    "#### Sentiment index (score) vs. time"
   ]
  },
  {
   "cell_type": "code",
   "execution_count": 31,
   "metadata": {},
   "outputs": [
    {
     "data": {
      "text/plain": [
       "Text(0, 0.5, 'sentiment index')"
      ]
     },
     "execution_count": 31,
     "metadata": {},
     "output_type": "execute_result"
    },
    {
     "data": {
      "image/png": "[encoded data removed]",
      "text/plain": [
       "<Figure size 432x288 with 1 Axes>"
      ]
     },
     "metadata": {},
     "output_type": "display_data"
    }
   ],
   "source": [
    "plt.plot(musk_day['date'],musk_day['score'], color = 'darkblue')\n",
    "#plt.xlabel('date')\n",
    "plt.ylabel('sentiment index')"
   ]
  },
  {
   "cell_type": "markdown",
   "metadata": {},
   "source": [
    "### Final aggregation"
   ]
  },
  {
   "cell_type": "code",
   "execution_count": 32,
   "metadata": {},
   "outputs": [
    {
     "data": {
      "text/plain": [
       "(341, 2)"
      ]
     },
     "execution_count": 32,
     "metadata": {},
     "output_type": "execute_result"
    }
   ],
   "source": [
    "tweets_day.head()\n",
    "tweets_day.isna().sum()\n",
    "tweets_day.shape"
   ]
  },
  {
   "cell_type": "code",
   "execution_count": 33,
   "metadata": {},
   "outputs": [
    {
     "data": {
      "text/plain": [
       "(387, 2)"
      ]
     },
     "execution_count": 33,
     "metadata": {},
     "output_type": "execute_result"
    }
   ],
   "source": [
    "musk_day.head()\n",
    "musk_day.isna().sum()\n",
    "musk_day.shape"
   ]
  },
  {
   "cell_type": "code",
   "execution_count": 34,
   "metadata": {},
   "outputs": [
    {
     "data": {
      "text/html": [
       "<div>\n",
       "<style scoped>\n",
       "    .dataframe tbody tr th:only-of-type {\n",
       "        vertical-align: middle;\n",
       "    }\n",
       "\n",
       "    .dataframe tbody tr th {\n",
       "        vertical-align: top;\n",
       "    }\n",
       "\n",
       "    .dataframe thead th {\n",
       "        text-align: right;\n",
       "    }\n",
       "</style>\n",
       "<table border=\"1\" class=\"dataframe\">\n",
       "  <thead>\n",
       "    <tr style=\"text-align: right;\">\n",
       "      <th></th>\n",
       "      <th>date</th>\n",
       "      <th>score</th>\n",
       "    </tr>\n",
       "  </thead>\n",
       "  <tbody>\n",
       "    <tr>\n",
       "      <th>0</th>\n",
       "      <td>2019-06-01</td>\n",
       "      <td>0.599243</td>\n",
       "    </tr>\n",
       "    <tr>\n",
       "      <th>1</th>\n",
       "      <td>2019-06-02</td>\n",
       "      <td>0.298118</td>\n",
       "    </tr>\n",
       "    <tr>\n",
       "      <th>2</th>\n",
       "      <td>2019-06-03</td>\n",
       "      <td>0.188786</td>\n",
       "    </tr>\n",
       "    <tr>\n",
       "      <th>3</th>\n",
       "      <td>2019-06-04</td>\n",
       "      <td>0.602552</td>\n",
       "    </tr>\n",
       "    <tr>\n",
       "      <th>4</th>\n",
       "      <td>2019-06-05</td>\n",
       "      <td>0.524161</td>\n",
       "    </tr>\n",
       "  </tbody>\n",
       "</table>\n",
       "</div>"
      ],
      "text/plain": [
       "        date     score\n",
       "0 2019-06-01  0.599243\n",
       "1 2019-06-02  0.298118\n",
       "2 2019-06-03  0.188786\n",
       "3 2019-06-04  0.602552\n",
       "4 2019-06-05  0.524161"
      ]
     },
     "execution_count": 34,
     "metadata": {},
     "output_type": "execute_result"
    }
   ],
   "source": [
    "#final_df = tweets_day['score'] * musk_day['score']\n",
    "final_df = pd.DataFrame({'date': musk_day['date'], 'score': tweets_day['score'] * musk_day['score']})\n",
    "final_df.replace(\" \", float(\"NaN\"), inplace=True)\n",
    "final_df.dropna(axis = 0, how ='any', inplace = True) # remove NA values\n",
    "final_df.head()"
   ]
  },
  {
   "cell_type": "markdown",
   "metadata": {},
   "source": [
    "#### Sentiment index (score) vs. time"
   ]
  },
  {
   "cell_type": "code",
   "execution_count": 35,
   "metadata": {},
   "outputs": [
    {
     "data": {
      "text/plain": [
       "Text(0, 0.5, 'sentiment index')"
      ]
     },
     "execution_count": 35,
     "metadata": {},
     "output_type": "execute_result"
    },
    {
     "data": {
      "image/png": "[encoded data removed]",
      "text/plain": [
       "<Figure size 432x288 with 1 Axes>"
      ]
     },
     "metadata": {},
     "output_type": "display_data"
    }
   ],
   "source": [
    "plt.plot(final_df['date'],final_df['score'], color = 'darkblue')\n",
    "#plt.xlabel('date')\n",
    "plt.ylabel('sentiment index')"
   ]
  },
  {
   "cell_type": "markdown",
   "metadata": {},
   "source": [
    "## Question 3\n",
    "Study the properties of the sentiment index time series, descriptive statistics, ACF, and develop/estimate a time series model for it (AR, MA, ARMA)."
   ]
  },
  {
   "cell_type": "markdown",
   "metadata": {},
   "source": [
    "### Descriptive statistics"
   ]
  },
  {
   "cell_type": "code",
   "execution_count": 36,
   "metadata": {},
   "outputs": [
    {
     "data": {
      "text/plain": [
       "Text(0, 0.5, 'frequency')"
      ]
     },
     "execution_count": 36,
     "metadata": {},
     "output_type": "execute_result"
    },
    {
     "data": {
      "image/png": "[encoded data removed]",
      "text/plain": [
       "<Figure size 432x288 with 1 Axes>"
      ]
     },
     "metadata": {},
     "output_type": "display_data"
    }
   ],
   "source": [
    "plt.hist(tweets_day['score'], bins = 30, color = 'darkblue')\n",
    "plt.xlabel('score')\n",
    "plt.ylabel('frequency')"
   ]
  },
  {
   "cell_type": "code",
   "execution_count": 37,
   "metadata": {},
   "outputs": [
    {
     "name": "stdout",
     "output_type": "stream",
     "text": [
      "mean: 0.5597332545936452\n",
      "variance: 0.039746539671710344\n",
      "skewness: -0.08997433831476385\n",
      "kurtosis: -0.4730654514896253\n"
     ]
    }
   ],
   "source": [
    "mean = tweets_day['score'].mean()\n",
    "variance = tweets_day['score'].var()\n",
    "skewness = tweets_day['score'].skew()\n",
    "kurtosis = tweets_day['score'].kurt()\n",
    "\n",
    "print('mean:', mean) \n",
    "print('variance:', variance)\n",
    "print('skewness:', skewness)\n",
    "print('kurtosis:', kurtosis)"
   ]
  },
  {
   "cell_type": "markdown",
   "metadata": {},
   "source": [
    "#### Comment \n",
    "The sentiment index values are distributed betweeen 0 and 1. They are centered around 0.55 (which is explained by the token dictionnary used) with a variance of 0.04. The skewness and kurtosis are not significant. "
   ]
  },
  {
   "cell_type": "markdown",
   "metadata": {},
   "source": [
    "### ACF"
   ]
  },
  {
   "cell_type": "code",
   "execution_count": 38,
   "metadata": {},
   "outputs": [
    {
     "data": {
      "image/png": "[encoded data removed]",
      "text/plain": [
       "<Figure size 432x288 with 1 Axes>"
      ]
     },
     "metadata": {},
     "output_type": "display_data"
    }
   ],
   "source": [
    "sm.graphics.tsa.plot_acf(tweets_day['score'])\n",
    "plt.title('Autocorrelation for sentiment scores')\n",
    "plt.show()"
   ]
  },
  {
   "cell_type": "code",
   "execution_count": 39,
   "metadata": {},
   "outputs": [
    {
     "name": "stderr",
     "output_type": "stream",
     "text": [
      "C:\\Users\\Camille\\anaconda3\\lib\\site-packages\\statsmodels\\tsa\\stattools.py:572: FutureWarning: fft=True will become the default in a future version of statsmodels. To suppress this warning, explicitly set fft=False.\n",
      "  FutureWarning\n"
     ]
    },
    {
     "data": {
      "image/png": "[encoded data removed]",
      "text/plain": [
       "<Figure size 432x288 with 1 Axes>"
      ]
     },
     "metadata": {},
     "output_type": "display_data"
    }
   ],
   "source": [
    "# Jeroen's code - ARMASIM-1\n",
    "tweets_acf = acf(tweets_day['score'], nlags=30) # doesn't work above 40 (every 10)\n",
    "x = range(0,31)\n",
    "plt.bar(x,tweets_acf,1/4, color=\"black\")\n",
    "plt.axhline(y=-1.96/np.sqrt(len(tweets_acf)),linestyle='--',color='b')\n",
    "plt.axhline(y=1.96/np.sqrt(len(tweets_acf)),linestyle='--',color='b')\n",
    "plt.title('Autocorrelation for sentiment scores')\n",
    "plt.show()"
   ]
  },
  {
   "cell_type": "markdown",
   "metadata": {},
   "source": [
    "#### Comment\n",
    "The ACF shows no significant lags. "
   ]
  },
  {
   "cell_type": "markdown",
   "metadata": {},
   "source": [
    "### PACF"
   ]
  },
  {
   "cell_type": "code",
   "execution_count": 40,
   "metadata": {
    "scrolled": true
   },
   "outputs": [
    {
     "data": {
      "image/png": "[encoded data removed]",
      "text/plain": [
       "<Figure size 432x288 with 1 Axes>"
      ]
     },
     "metadata": {},
     "output_type": "display_data"
    }
   ],
   "source": [
    "sm.graphics.tsa.plot_pacf(tweets_day['score'])\n",
    "plt.title('Partial autocorrelation for sentiment scores')\n",
    "plt.show()"
   ]
  },
  {
   "cell_type": "code",
   "execution_count": 41,
   "metadata": {},
   "outputs": [
    {
     "data": {
      "image/png": "[encoded data removed]",
      "text/plain": [
       "<Figure size 432x288 with 1 Axes>"
      ]
     },
     "metadata": {},
     "output_type": "display_data"
    }
   ],
   "source": [
    "# Jeroen's code - ARMASIM-1\n",
    "tweets_acf = pacf(tweets_day['score'], nlags=30)\n",
    "x = range(0,31)\n",
    "plt.bar(x,tweets_acf,1/4, color=\"black\")\n",
    "plt.axhline(y=-1.96/np.sqrt(len(tweets_acf)),linestyle='--',color='b')\n",
    "plt.axhline(y=1.96/np.sqrt(len(tweets_acf)),linestyle='--',color='b')\n",
    "plt.title('Partial Autocorrelation for sentiment scores')\n",
    "plt.show()"
   ]
  },
  {
   "cell_type": "markdown",
   "metadata": {},
   "source": [
    "#### Comment\n",
    "The PACF shows no significant lags. "
   ]
  },
  {
   "cell_type": "markdown",
   "metadata": {},
   "source": [
    "### Model Design"
   ]
  },
  {
   "cell_type": "markdown",
   "metadata": {},
   "source": [
    "#### Comment\n",
    "Given the ACF and the PACF we can only choose a ARMA(0,0) model (constant only). There are no significant lags on either of the ACF and PACF plots. We looked into the ARMA(0,0) model following the previous conclusion and compared it to an AR(1) and MA(1) for information only. \n",
    "\n",
    "We are choosing the AIC and the significance of the coefficient for model selection. In all cases, the AIC is very high (-170 to -172) and the coefficients are not significant. "
   ]
  },
  {
   "cell_type": "code",
   "execution_count": 42,
   "metadata": {},
   "outputs": [
    {
     "name": "stdout",
     "output_type": "stream",
     "text": [
      "                              ARMA Model Results                              \n",
      "==============================================================================\n",
      "Dep. Variable:                  score   No. Observations:                  341\n",
      "Model:                     ARMA(0, 0)   Log Likelihood                  66.545\n",
      "Method:                           css   S.D. of innovations              0.199\n",
      "Date:                Tue, 23 Jun 2020   AIC                           -129.090\n",
      "Time:                        13:48:30   BIC                           -121.426\n",
      "Sample:                             0   HQIC                          -126.036\n",
      "                                                                              \n",
      "==============================================================================\n",
      "                 coef    std err          z      P>|z|      [0.025      0.975]\n",
      "------------------------------------------------------------------------------\n",
      "const          0.5597      0.011     51.921      0.000       0.539       0.581\n",
      "==============================================================================\n"
     ]
    }
   ],
   "source": [
    "# Jeroen's code - ARMASIM-1\n",
    "# ARMA(0,0)\n",
    "from statsmodels.tsa.arima_model import ARIMA\n",
    "model = ARIMA(tweets_day['score'], order=(0,0,0))\n",
    "model_fit = model.fit(disp=0)\n",
    "print(model_fit.summary())"
   ]
  },
  {
   "cell_type": "code",
   "execution_count": 43,
   "metadata": {},
   "outputs": [
    {
     "name": "stdout",
     "output_type": "stream",
     "text": [
      "                              ARMA Model Results                              \n",
      "==============================================================================\n",
      "Dep. Variable:                  score   No. Observations:                  341\n",
      "Model:                     ARMA(1, 0)   Log Likelihood                  66.659\n",
      "Method:                       css-mle   S.D. of innovations              0.199\n",
      "Date:                Tue, 23 Jun 2020   AIC                           -127.318\n",
      "Time:                        13:48:31   BIC                           -115.822\n",
      "Sample:                             0   HQIC                          -122.738\n",
      "                                                                              \n",
      "===============================================================================\n",
      "                  coef    std err          z      P>|z|      [0.025      0.975]\n",
      "-------------------------------------------------------------------------------\n",
      "const           0.5597      0.011     53.279      0.000       0.539       0.580\n",
      "ar.L1.score    -0.0260      0.054     -0.478      0.633      -0.133       0.081\n",
      "                                    Roots                                    \n",
      "=============================================================================\n",
      "                  Real          Imaginary           Modulus         Frequency\n",
      "-----------------------------------------------------------------------------\n",
      "AR.1          -38.4851           +0.0000j           38.4851            0.5000\n",
      "-----------------------------------------------------------------------------\n"
     ]
    }
   ],
   "source": [
    "# Jeroen's code - ARMASIM-1\n",
    "# ARMA(1,0)\n",
    "from statsmodels.tsa.arima_model import ARIMA\n",
    "model = ARIMA(tweets_day['score'], order=(1,0,0))\n",
    "model_fit = model.fit(disp=0)\n",
    "print(model_fit.summary())"
   ]
  },
  {
   "cell_type": "code",
   "execution_count": 44,
   "metadata": {},
   "outputs": [
    {
     "name": "stdout",
     "output_type": "stream",
     "text": [
      "                              ARMA Model Results                              \n",
      "==============================================================================\n",
      "Dep. Variable:                  score   No. Observations:                  341\n",
      "Model:                     ARMA(0, 1)   Log Likelihood                  66.666\n",
      "Method:                       css-mle   S.D. of innovations              0.199\n",
      "Date:                Tue, 23 Jun 2020   AIC                           -127.332\n",
      "Time:                        13:48:31   BIC                           -115.836\n",
      "Sample:                             0   HQIC                          -122.752\n",
      "                                                                              \n",
      "===============================================================================\n",
      "                  coef    std err          z      P>|z|      [0.025      0.975]\n",
      "-------------------------------------------------------------------------------\n",
      "const           0.5597      0.010     53.401      0.000       0.539       0.580\n",
      "ma.L1.score    -0.0276      0.056     -0.492      0.623      -0.137       0.082\n",
      "                                    Roots                                    \n",
      "=============================================================================\n",
      "                  Real          Imaginary           Modulus         Frequency\n",
      "-----------------------------------------------------------------------------\n",
      "MA.1           36.2827           +0.0000j           36.2827            0.0000\n",
      "-----------------------------------------------------------------------------\n"
     ]
    }
   ],
   "source": [
    "# Jeroen's code - ARMASIM-1\n",
    "# ARMA(0,1)\n",
    "from statsmodels.tsa.arima_model import ARIMA\n",
    "model = ARIMA(tweets_day['score'], order=(0,0,1))\n",
    "model_fit = model.fit(disp=0)\n",
    "print(model_fit.summary())"
   ]
  },
  {
   "cell_type": "markdown",
   "metadata": {},
   "source": [
    "#### Comment \n",
    "We explored one of the models further for information only. "
   ]
  },
  {
   "cell_type": "markdown",
   "metadata": {},
   "source": [
    "### MA(1)"
   ]
  },
  {
   "cell_type": "code",
   "execution_count": 45,
   "metadata": {},
   "outputs": [
    {
     "data": {
      "text/plain": [
       "const          0.559688\n",
       "ma.L1.score   -0.027561\n",
       "dtype: float64"
      ]
     },
     "execution_count": 45,
     "metadata": {},
     "output_type": "execute_result"
    }
   ],
   "source": [
    "# Jeroen's code - ARMASIM-1\n",
    "model_fit.params #coef param"
   ]
  },
  {
   "cell_type": "code",
   "execution_count": 46,
   "metadata": {},
   "outputs": [
    {
     "data": {
      "text/html": [
       "<div>\n",
       "<style scoped>\n",
       "    .dataframe tbody tr th:only-of-type {\n",
       "        vertical-align: middle;\n",
       "    }\n",
       "\n",
       "    .dataframe tbody tr th {\n",
       "        vertical-align: top;\n",
       "    }\n",
       "\n",
       "    .dataframe thead th {\n",
       "        text-align: right;\n",
       "    }\n",
       "</style>\n",
       "<table border=\"1\" class=\"dataframe\">\n",
       "  <thead>\n",
       "    <tr style=\"text-align: right;\">\n",
       "      <th></th>\n",
       "      <th>const</th>\n",
       "      <th>ma.L1.score</th>\n",
       "    </tr>\n",
       "  </thead>\n",
       "  <tbody>\n",
       "    <tr>\n",
       "      <th>const</th>\n",
       "      <td>0.000110</td>\n",
       "      <td>0.000005</td>\n",
       "    </tr>\n",
       "    <tr>\n",
       "      <th>ma.L1.score</th>\n",
       "      <td>0.000005</td>\n",
       "      <td>0.003138</td>\n",
       "    </tr>\n",
       "  </tbody>\n",
       "</table>\n",
       "</div>"
      ],
      "text/plain": [
       "                const  ma.L1.score\n",
       "const        0.000110     0.000005\n",
       "ma.L1.score  0.000005     0.003138"
      ]
     },
     "execution_count": 46,
     "metadata": {},
     "output_type": "execute_result"
    }
   ],
   "source": [
    "model_fit.cov_params() #cov matrix"
   ]
  },
  {
   "cell_type": "markdown",
   "metadata": {},
   "source": [
    "#### Residuals"
   ]
  },
  {
   "cell_type": "code",
   "execution_count": 47,
   "metadata": {},
   "outputs": [
    {
     "data": {
      "image/png": "[encoded data removed]",
      "text/plain": [
       "<Figure size 432x288 with 1 Axes>"
      ]
     },
     "metadata": {},
     "output_type": "display_data"
    }
   ],
   "source": [
    "sm.graphics.tsa.plot_acf(model_fit.resid)\n",
    "plt.title('Autocorrelation for residuals')\n",
    "plt.show()"
   ]
  },
  {
   "cell_type": "code",
   "execution_count": 48,
   "metadata": {},
   "outputs": [
    {
     "data": {
      "image/png": "[encoded data removed]",
      "text/plain": [
       "<Figure size 432x288 with 1 Axes>"
      ]
     },
     "metadata": {},
     "output_type": "display_data"
    }
   ],
   "source": [
    "sm.graphics.tsa.plot_pacf(model_fit.resid)\n",
    "plt.title('Partial autocorrelation for residuals')\n",
    "plt.show()"
   ]
  },
  {
   "cell_type": "markdown",
   "metadata": {},
   "source": [
    "#### Forecast"
   ]
  },
  {
   "cell_type": "code",
   "execution_count": 49,
   "metadata": {},
   "outputs": [],
   "source": [
    "#forecasting\n",
    "T = len(tweets_day['score'])\n",
    "tweet_res = model_fit.resid\n",
    "tweet_sig2 = model_fit.sigma2\n",
    "tweet_coef = model_fit.params\n",
    "theta_1 = tweet_coef[0]\n",
    "mu = tweet_coef[1]\n",
    "hor = 10\n",
    "forecast = np.ones((hor), dtype = float);\n",
    "forecastvar = np.zeros((hor), dtype = float);\n",
    "forecast[0] = mu + theta_1 * tweet_res[T - 1]\n",
    "forecastvar[0] = tweet_sig2"
   ]
  },
  {
   "cell_type": "code",
   "execution_count": 50,
   "metadata": {},
   "outputs": [],
   "source": [
    "for i in range(1,hor):\n",
    "    forecast[i]=mu\n",
    "    forecastvar[i]=tweet_sig2*np.power(1+theta_1,2)"
   ]
  },
  {
   "cell_type": "code",
   "execution_count": 51,
   "metadata": {},
   "outputs": [],
   "source": [
    "#variables for plot\n",
    "T0=T-100\n",
    "y=np.append(tweets_day['score'][T0:T],forecast)\n",
    "uppr=forecast+2*np.sqrt(forecastvar)\n",
    "lwr=forecast-2*np.sqrt(forecastvar)\n",
    "y_up=np.append(tweets_day['score'][T0:T], uppr)\n",
    "y_lo=np.append(tweets_day['score'][T0:T], lwr)"
   ]
  },
  {
   "cell_type": "code",
   "execution_count": 52,
   "metadata": {},
   "outputs": [
    {
     "data": {
      "image/png": "[encoded data removed]",
      "text/plain": [
       "<Figure size 432x288 with 1 Axes>"
      ]
     },
     "metadata": {},
     "output_type": "display_data"
    }
   ],
   "source": [
    "plt.plot(y_lo,color='blue', linestyle='--')\n",
    "plt.plot(y_up,color='blue', linestyle='--')\n",
    "plt.plot(y,color='black')\n",
    "\n",
    "\n",
    "plt.ylim(np.min(y_lo)-0.5, np.max(y_up)+0.5)\n",
    "plt.show()"
   ]
  },
  {
   "cell_type": "code",
   "execution_count": 62,
   "metadata": {},
   "outputs": [
    {
     "data": {
      "text/html": [
       "<table class=\"simpletable\">\n",
       "<caption>SARIMAX Results</caption>\n",
       "<tr>\n",
       "  <th>Dep. Variable:</th>           <td>y</td>        <th>  No. Observations:  </th>    <td>341</td>  \n",
       "</tr>\n",
       "<tr>\n",
       "  <th>Model:</th>                <td>SARIMAX</td>     <th>  Log Likelihood     </th>  <td>66.545</td> \n",
       "</tr>\n",
       "<tr>\n",
       "  <th>Date:</th>            <td>Tue, 23 Jun 2020</td> <th>  AIC                </th> <td>-129.090</td>\n",
       "</tr>\n",
       "<tr>\n",
       "  <th>Time:</th>                <td>15:22:52</td>     <th>  BIC                </th> <td>-121.426</td>\n",
       "</tr>\n",
       "<tr>\n",
       "  <th>Sample:</th>                  <td>0</td>        <th>  HQIC               </th> <td>-126.036</td>\n",
       "</tr>\n",
       "<tr>\n",
       "  <th></th>                      <td> - 341</td>      <th>                     </th>     <td> </td>   \n",
       "</tr>\n",
       "<tr>\n",
       "  <th>Covariance Type:</th>        <td>opg</td>       <th>                     </th>     <td> </td>   \n",
       "</tr>\n",
       "</table>\n",
       "<table class=\"simpletable\">\n",
       "<tr>\n",
       "      <td></td>         <th>coef</th>     <th>std err</th>      <th>z</th>      <th>P>|z|</th>  <th>[0.025</th>    <th>0.975]</th>  \n",
       "</tr>\n",
       "<tr>\n",
       "  <th>intercept</th> <td>    0.5597</td> <td>    0.011</td> <td>   51.784</td> <td> 0.000</td> <td>    0.539</td> <td>    0.581</td>\n",
       "</tr>\n",
       "<tr>\n",
       "  <th>sigma2</th>    <td>    0.0396</td> <td>    0.003</td> <td>   11.339</td> <td> 0.000</td> <td>    0.033</td> <td>    0.046</td>\n",
       "</tr>\n",
       "</table>\n",
       "<table class=\"simpletable\">\n",
       "<tr>\n",
       "  <th>Ljung-Box (Q):</th>          <td>46.61</td> <th>  Jarque-Bera (JB):  </th> <td>3.78</td> \n",
       "</tr>\n",
       "<tr>\n",
       "  <th>Prob(Q):</th>                <td>0.22</td>  <th>  Prob(JB):          </th> <td>0.15</td> \n",
       "</tr>\n",
       "<tr>\n",
       "  <th>Heteroskedasticity (H):</th> <td>0.88</td>  <th>  Skew:              </th> <td>-0.09</td>\n",
       "</tr>\n",
       "<tr>\n",
       "  <th>Prob(H) (two-sided):</th>    <td>0.50</td>  <th>  Kurtosis:          </th> <td>2.52</td> \n",
       "</tr>\n",
       "</table><br/><br/>Warnings:<br/>[1] Covariance matrix calculated using the outer product of gradients (complex-step)."
      ],
      "text/plain": [
       "<class 'statsmodels.iolib.summary.Summary'>\n",
       "\"\"\"\n",
       "                               SARIMAX Results                                \n",
       "==============================================================================\n",
       "Dep. Variable:                      y   No. Observations:                  341\n",
       "Model:                        SARIMAX   Log Likelihood                  66.545\n",
       "Date:                Tue, 23 Jun 2020   AIC                           -129.090\n",
       "Time:                        15:22:52   BIC                           -121.426\n",
       "Sample:                             0   HQIC                          -126.036\n",
       "                                - 341                                         \n",
       "Covariance Type:                  opg                                         \n",
       "==============================================================================\n",
       "                 coef    std err          z      P>|z|      [0.025      0.975]\n",
       "------------------------------------------------------------------------------\n",
       "intercept      0.5597      0.011     51.784      0.000       0.539       0.581\n",
       "sigma2         0.0396      0.003     11.339      0.000       0.033       0.046\n",
       "===================================================================================\n",
       "Ljung-Box (Q):                       46.61   Jarque-Bera (JB):                 3.78\n",
       "Prob(Q):                              0.22   Prob(JB):                         0.15\n",
       "Heteroskedasticity (H):               0.88   Skew:                            -0.09\n",
       "Prob(H) (two-sided):                  0.50   Kurtosis:                         2.52\n",
       "===================================================================================\n",
       "\n",
       "Warnings:\n",
       "[1] Covariance matrix calculated using the outer product of gradients (complex-step).\n",
       "\"\"\""
      ]
     },
     "execution_count": 62,
     "metadata": {},
     "output_type": "execute_result"
    }
   ],
   "source": [
    "# auto arima\n",
    "import pmdarima as pm\n",
    "import numpy as np\n",
    "import matplotlib.pyplot as plt\n",
    "\n",
    "# fit your model\n",
    "model = pm.auto_arima(tweets_day['score'], seasonal = False, m = 10)\n",
    "model.summary()"
   ]
  },
  {
   "cell_type": "markdown",
   "metadata": {},
   "source": [
    "## Question 4\n",
    "For the same period as your sentiment time series, download S&P 500 (or stock)\n",
    "daily closing prices and transform the series into log returns. Make time series plots\n",
    "and compare with the sentiment series."
   ]
  },
  {
   "cell_type": "markdown",
   "metadata": {},
   "source": [
    "#### Comment\n",
    "We downloaded the Tesla stock adjusted closed prices between the same dates as the tweets and calculaed the log returns. The PACF and ACF are similar to the sentiment analysis ones, there is no significant lag in either. "
   ]
  },
  {
   "cell_type": "code",
   "execution_count": 52,
   "metadata": {},
   "outputs": [
    {
     "data": {
      "text/html": [
       "<div>\n",
       "<style scoped>\n",
       "    .dataframe tbody tr th:only-of-type {\n",
       "        vertical-align: middle;\n",
       "    }\n",
       "\n",
       "    .dataframe tbody tr th {\n",
       "        vertical-align: top;\n",
       "    }\n",
       "\n",
       "    .dataframe thead th {\n",
       "        text-align: right;\n",
       "    }\n",
       "</style>\n",
       "<table border=\"1\" class=\"dataframe\">\n",
       "  <thead>\n",
       "    <tr style=\"text-align: right;\">\n",
       "      <th></th>\n",
       "      <th>date</th>\n",
       "      <th>log_returns</th>\n",
       "    </tr>\n",
       "  </thead>\n",
       "  <tbody>\n",
       "    <tr>\n",
       "      <th>1</th>\n",
       "      <td>2019-06-03</td>\n",
       "      <td>-3.400214</td>\n",
       "    </tr>\n",
       "    <tr>\n",
       "      <th>2</th>\n",
       "      <td>2019-06-04</td>\n",
       "      <td>7.857601</td>\n",
       "    </tr>\n",
       "    <tr>\n",
       "      <th>3</th>\n",
       "      <td>2019-06-05</td>\n",
       "      <td>1.532612</td>\n",
       "    </tr>\n",
       "    <tr>\n",
       "      <th>4</th>\n",
       "      <td>2019-06-06</td>\n",
       "      <td>4.651308</td>\n",
       "    </tr>\n",
       "    <tr>\n",
       "      <th>5</th>\n",
       "      <td>2019-06-07</td>\n",
       "      <td>-0.706543</td>\n",
       "    </tr>\n",
       "  </tbody>\n",
       "</table>\n",
       "</div>"
      ],
      "text/plain": [
       "        date  log_returns\n",
       "1 2019-06-03    -3.400214\n",
       "2 2019-06-04     7.857601\n",
       "3 2019-06-05     1.532612\n",
       "4 2019-06-06     4.651308\n",
       "5 2019-06-07    -0.706543"
      ]
     },
     "execution_count": 52,
     "metadata": {},
     "output_type": "execute_result"
    }
   ],
   "source": [
    "# log returns\n",
    "log_stock = np.log(stocks['Adj Close']) \n",
    "log_returns = np.diff(log_stock)*100\n",
    "log_stock.shape\n",
    "\n",
    "# stocks\n",
    "log_returns = pd.DataFrame({'date': stocks.reset_index()['Date'][1:], 'log_returns': log_returns})\n",
    "log_returns.head()"
   ]
  },
  {
   "cell_type": "code",
   "execution_count": 53,
   "metadata": {},
   "outputs": [
    {
     "data": {
      "text/plain": [
       "Text(0, 0.5, 'log returns')"
      ]
     },
     "execution_count": 53,
     "metadata": {},
     "output_type": "execute_result"
    },
    {
     "data": {
      "image/png": "[encoded data removed]",
      "text/plain": [
       "<Figure size 432x288 with 1 Axes>"
      ]
     },
     "metadata": {},
     "output_type": "display_data"
    }
   ],
   "source": [
    "plt.plot(log_returns['date'],log_returns['log_returns'], color = 'darkblue')\n",
    "#plt.xlabel('date')\n",
    "plt.ylabel('log returns')"
   ]
  },
  {
   "cell_type": "markdown",
   "metadata": {},
   "source": [
    "### Time series plots"
   ]
  },
  {
   "cell_type": "code",
   "execution_count": 54,
   "metadata": {},
   "outputs": [
    {
     "data": {
      "image/png": "[encoded data removed]",
      "text/plain": [
       "<Figure size 432x288 with 1 Axes>"
      ]
     },
     "metadata": {},
     "output_type": "display_data"
    }
   ],
   "source": [
    "sm.graphics.tsa.plot_acf(log_returns['log_returns'])\n",
    "plt.title('Autocorrelation for sentiment scores')\n",
    "plt.show()"
   ]
  },
  {
   "cell_type": "code",
   "execution_count": 55,
   "metadata": {
    "scrolled": true
   },
   "outputs": [
    {
     "data": {
      "image/png": "[encoded data removed]",
      "text/plain": [
       "<Figure size 432x288 with 1 Axes>"
      ]
     },
     "metadata": {},
     "output_type": "display_data"
    }
   ],
   "source": [
    "sm.graphics.tsa.plot_pacf(log_returns['log_returns'])\n",
    "plt.title('Partial autocorrelation for sentiment scores')\n",
    "plt.show()"
   ]
  },
  {
   "cell_type": "markdown",
   "metadata": {},
   "source": [
    "## Question 5 \n",
    "Test for Granger causality between the two time series."
   ]
  },
  {
   "cell_type": "markdown",
   "metadata": {},
   "source": [
    "#### Comment\n",
    "To test for Granger causality between the sentiment score index time series and the log-returns of the Tesla stocks, we first test for stability using an Augmented Dickey Fuller test. It is verified in both cases, the p-values are below 0.05 meaning we can reject the hypothesis of non-stationarity. \n",
    "\n",
    "Using the library 'statsmodels' we test for Granger causality i.e. whether the sentiment index has an effect on the log-returns. The p-value is below 0.05 for lags between 1 and 8 meaning some Granger causality exists between the series. "
   ]
  },
  {
   "cell_type": "code",
   "execution_count": 56,
   "metadata": {},
   "outputs": [
    {
     "data": {
      "text/plain": [
       "(-6.6421993767113925,\n",
       " 5.3748518548815874e-09,\n",
       " 7,\n",
       " 333,\n",
       " {'1%': -3.450141065277327,\n",
       "  '5%': -2.870258846235788,\n",
       "  '10%': -2.571415151457764},\n",
       " -165.25027166799725)"
      ]
     },
     "execution_count": 56,
     "metadata": {},
     "output_type": "execute_result"
    }
   ],
   "source": [
    "# stationarity test\n",
    "from statsmodels.tsa.stattools import adfuller\n",
    "adfuller(tweets_day['score'], autolag ='AIC')\n",
    "# HENCE STATIONARY"
   ]
  },
  {
   "cell_type": "code",
   "execution_count": 57,
   "metadata": {},
   "outputs": [
    {
     "data": {
      "text/plain": [
       "(-15.68506896110618,\n",
       " 1.4568102591407303e-28,\n",
       " 0,\n",
       " 265,\n",
       " {'1%': -3.4552699038400827,\n",
       "  '5%': -2.8725092359464526,\n",
       "  '10%': -2.5726152830188678},\n",
       " 1497.6415237645338)"
      ]
     },
     "execution_count": 57,
     "metadata": {},
     "output_type": "execute_result"
    }
   ],
   "source": [
    "# stationarity test\n",
    "adfuller(log_returns['log_returns'], autolag ='AIC')\n",
    "# HENCE STATIONARY"
   ]
  },
  {
   "cell_type": "code",
   "execution_count": 58,
   "metadata": {},
   "outputs": [
    {
     "data": {
      "text/plain": [
       "log_returns    0\n",
       "score          0\n",
       "dtype: int64"
      ]
     },
     "execution_count": 58,
     "metadata": {},
     "output_type": "execute_result"
    }
   ],
   "source": [
    "#tweets_day = tweets_day.set_index('date')\n",
    "#log_returns = log_returns.set_index('date')\n",
    "dataset = pd.concat([log_returns.log_returns, tweets_day.score], axis = 1)\n",
    "dataset = dataset.fillna(method = 'pad')\n",
    "dataset = dataset.dropna()\n",
    "dataset.isnull().sum()"
   ]
  },
  {
   "cell_type": "code",
   "execution_count": 59,
   "metadata": {
    "scrolled": true
   },
   "outputs": [
    {
     "name": "stdout",
     "output_type": "stream",
     "text": [
      "\n",
      "Granger Causality\n",
      "number of lags (no zero) 1\n",
      "ssr based F test:         F=6.2803  , p=0.0127  , df_denom=336, df_num=1\n",
      "ssr based chi2 test:   chi2=6.3364  , p=0.0118  , df=1\n",
      "likelihood ratio test: chi2=6.2779  , p=0.0122  , df=1\n",
      "parameter F test:         F=6.2803  , p=0.0127  , df_denom=336, df_num=1\n",
      "\n",
      "Granger Causality\n",
      "number of lags (no zero) 2\n",
      "ssr based F test:         F=5.4428  , p=0.0047  , df_denom=333, df_num=2\n",
      "ssr based chi2 test:   chi2=11.0491 , p=0.0040  , df=2\n",
      "likelihood ratio test: chi2=10.8724 , p=0.0044  , df=2\n",
      "parameter F test:         F=5.4428  , p=0.0047  , df_denom=333, df_num=2\n",
      "\n",
      "Granger Causality\n",
      "number of lags (no zero) 3\n",
      "ssr based F test:         F=3.5733  , p=0.0143  , df_denom=330, df_num=3\n",
      "ssr based chi2 test:   chi2=10.9473 , p=0.0120  , df=3\n",
      "likelihood ratio test: chi2=10.7732 , p=0.0130  , df=3\n",
      "parameter F test:         F=3.5733  , p=0.0143  , df_denom=330, df_num=3\n",
      "\n",
      "Granger Causality\n",
      "number of lags (no zero) 4\n",
      "ssr based F test:         F=3.1910  , p=0.0136  , df_denom=327, df_num=4\n",
      "ssr based chi2 test:   chi2=13.1154 , p=0.0107  , df=4\n",
      "likelihood ratio test: chi2=12.8659 , p=0.0119  , df=4\n",
      "parameter F test:         F=3.1910  , p=0.0136  , df_denom=327, df_num=4\n",
      "\n",
      "Granger Causality\n",
      "number of lags (no zero) 5\n",
      "ssr based F test:         F=3.3292  , p=0.0060  , df_denom=324, df_num=5\n",
      "ssr based chi2 test:   chi2=17.2111 , p=0.0041  , df=5\n",
      "likelihood ratio test: chi2=16.7836 , p=0.0049  , df=5\n",
      "parameter F test:         F=3.3292  , p=0.0060  , df_denom=324, df_num=5\n",
      "\n",
      "Granger Causality\n",
      "number of lags (no zero) 6\n",
      "ssr based F test:         F=2.8050  , p=0.0113  , df_denom=321, df_num=6\n",
      "ssr based chi2 test:   chi2=17.5118 , p=0.0076  , df=6\n",
      "likelihood ratio test: chi2=17.0682 , p=0.0090  , df=6\n",
      "parameter F test:         F=2.8050  , p=0.0113  , df_denom=321, df_num=6\n",
      "\n",
      "Granger Causality\n",
      "number of lags (no zero) 7\n",
      "ssr based F test:         F=2.2410  , p=0.0308  , df_denom=318, df_num=7\n",
      "ssr based chi2 test:   chi2=16.4271 , p=0.0215  , df=7\n",
      "likelihood ratio test: chi2=16.0348 , p=0.0248  , df=7\n",
      "parameter F test:         F=2.2410  , p=0.0308  , df_denom=318, df_num=7\n",
      "\n",
      "Granger Causality\n",
      "number of lags (no zero) 8\n",
      "ssr based F test:         F=2.0074  , p=0.0452  , df_denom=315, df_num=8\n",
      "ssr based chi2 test:   chi2=16.9260 , p=0.0309  , df=8\n",
      "likelihood ratio test: chi2=16.5087 , p=0.0357  , df=8\n",
      "parameter F test:         F=2.0074  , p=0.0452  , df_denom=315, df_num=8\n",
      "\n",
      "Granger Causality\n",
      "number of lags (no zero) 9\n",
      "ssr based F test:         F=1.8214  , p=0.0637  , df_denom=312, df_num=9\n",
      "ssr based chi2 test:   chi2=17.3907 , p=0.0429  , df=9\n",
      "likelihood ratio test: chi2=16.9493 , p=0.0495  , df=9\n",
      "parameter F test:         F=1.8214  , p=0.0637  , df_denom=312, df_num=9\n",
      "\n",
      "Granger Causality\n",
      "number of lags (no zero) 10\n",
      "ssr based F test:         F=1.8475  , p=0.0521  , df_denom=309, df_num=10\n",
      "ssr based chi2 test:   chi2=19.7302 , p=0.0319  , df=10\n",
      "likelihood ratio test: chi2=19.1629 , p=0.0382  , df=10\n",
      "parameter F test:         F=1.8475  , p=0.0521  , df_denom=309, df_num=10\n"
     ]
    },
    {
     "data": {
      "text/plain": [
       "{1: ({'ssr_ftest': (6.280339802954516, 0.012680634382463802, 336.0, 1),\n",
       "   'ssr_chi2test': (6.336414265480896, 0.011828376203254796, 1),\n",
       "   'lrtest': (6.277923490398734, 0.012225126668032578, 1),\n",
       "   'params_ftest': (6.280339802954514, 0.012680634382463802, 336.0, 1.0)},\n",
       "  [<statsmodels.regression.linear_model.RegressionResultsWrapper at 0x14394725f08>,\n",
       "   <statsmodels.regression.linear_model.RegressionResultsWrapper at 0x14394725e48>,\n",
       "   array([[0., 1., 0.]])]),\n",
       " 2: ({'ssr_ftest': (5.442837003710308, 0.0047208469166333195, 333.0, 2),\n",
       "   'ssr_chi2test': (11.049122566090595, 0.003987617743944035, 2),\n",
       "   'lrtest': (10.872367973746577, 0.004356074431774022, 2),\n",
       "   'params_ftest': (5.442837003710317, 0.0047208469166333195, 333.0, 2.0)},\n",
       "  [<statsmodels.regression.linear_model.RegressionResultsWrapper at 0x14394716a88>,\n",
       "   <statsmodels.regression.linear_model.RegressionResultsWrapper at 0x14394716388>,\n",
       "   array([[0., 0., 1., 0., 0.],\n",
       "          [0., 0., 0., 1., 0.]])]),\n",
       " 3: ({'ssr_ftest': (3.5732874560880217, 0.014324077676636017, 330.0, 3),\n",
       "   'ssr_chi2test': (10.947253388196941, 0.012014542587676588, 3),\n",
       "   'lrtest': (10.77320494995115, 0.01301763634371134, 3),\n",
       "   'params_ftest': (3.5732874560880314, 0.01432407767663583, 330.0, 3.0)},\n",
       "  [<statsmodels.regression.linear_model.RegressionResultsWrapper at 0x1439471b508>,\n",
       "   <statsmodels.regression.linear_model.RegressionResultsWrapper at 0x1439471bd88>,\n",
       "   array([[0., 0., 0., 1., 0., 0., 0.],\n",
       "          [0., 0., 0., 0., 1., 0., 0.],\n",
       "          [0., 0., 0., 0., 0., 1., 0.]])]),\n",
       " 4: ({'ssr_ftest': (3.191031699247721, 0.013641776027784602, 327.0, 4),\n",
       "   'ssr_chi2test': (13.115433039109897, 0.010725325953801799, 4),\n",
       "   'lrtest': (12.865930978656934, 0.011949801800247281, 4),\n",
       "   'params_ftest': (3.191031699247712, 0.013641776027784602, 327.0, 4.0)},\n",
       "  [<statsmodels.regression.linear_model.RegressionResultsWrapper at 0x1439471b688>,\n",
       "   <statsmodels.regression.linear_model.RegressionResultsWrapper at 0x1439471e088>,\n",
       "   array([[0., 0., 0., 0., 1., 0., 0., 0., 0.],\n",
       "          [0., 0., 0., 0., 0., 1., 0., 0., 0.],\n",
       "          [0., 0., 0., 0., 0., 0., 1., 0., 0.],\n",
       "          [0., 0., 0., 0., 0., 0., 0., 1., 0.]])]),\n",
       " 5: ({'ssr_ftest': (3.329197999850306, 0.0060196255609598, 324.0, 5),\n",
       "   'ssr_chi2test': (17.21113163502859, 0.004116306266913298, 5),\n",
       "   'lrtest': (16.783590363828807, 0.00492904788995258, 5),\n",
       "   'params_ftest': (3.3291979998502965, 0.006019625560960029, 324.0, 5.0)},\n",
       "  [<statsmodels.regression.linear_model.RegressionResultsWrapper at 0x1439471ec88>,\n",
       "   <statsmodels.regression.linear_model.RegressionResultsWrapper at 0x1439471e908>,\n",
       "   array([[0., 0., 0., 0., 0., 1., 0., 0., 0., 0., 0.],\n",
       "          [0., 0., 0., 0., 0., 0., 1., 0., 0., 0., 0.],\n",
       "          [0., 0., 0., 0., 0., 0., 0., 1., 0., 0., 0.],\n",
       "          [0., 0., 0., 0., 0., 0., 0., 0., 1., 0., 0.],\n",
       "          [0., 0., 0., 0., 0., 0., 0., 0., 0., 1., 0.]])]),\n",
       " 6: ({'ssr_ftest': (2.80503681603765, 0.011283571510204196, 321.0, 6),\n",
       "   'ssr_chi2test': (17.511818627225704, 0.0075753306353514415, 6),\n",
       "   'lrtest': (17.06818193234767, 0.009035905037416102, 6),\n",
       "   'params_ftest': (2.8050368160376595, 0.011283571510204028, 321.0, 6.0)},\n",
       "  [<statsmodels.regression.linear_model.RegressionResultsWrapper at 0x1439472b4c8>,\n",
       "   <statsmodels.regression.linear_model.RegressionResultsWrapper at 0x1439472b708>,\n",
       "   array([[0., 0., 0., 0., 0., 0., 1., 0., 0., 0., 0., 0., 0.],\n",
       "          [0., 0., 0., 0., 0., 0., 0., 1., 0., 0., 0., 0., 0.],\n",
       "          [0., 0., 0., 0., 0., 0., 0., 0., 1., 0., 0., 0., 0.],\n",
       "          [0., 0., 0., 0., 0., 0., 0., 0., 0., 1., 0., 0., 0.],\n",
       "          [0., 0., 0., 0., 0., 0., 0., 0., 0., 0., 1., 0., 0.],\n",
       "          [0., 0., 0., 0., 0., 0., 0., 0., 0., 0., 0., 1., 0.]])]),\n",
       " 7: ({'ssr_ftest': (2.2410249787883414, 0.03084224974038308, 318.0, 7),\n",
       "   'ssr_chi2test': (16.4271359294202, 0.021487977550545722, 7),\n",
       "   'lrtest': (16.03480550018321, 0.02480026802908291, 7),\n",
       "   'params_ftest': (2.2410249787883543, 0.030842249740381637, 318.0, 7.0)},\n",
       "  [<statsmodels.regression.linear_model.RegressionResultsWrapper at 0x1439472bdc8>,\n",
       "   <statsmodels.regression.linear_model.RegressionResultsWrapper at 0x14392006048>,\n",
       "   array([[0., 0., 0., 0., 0., 0., 0., 1., 0., 0., 0., 0., 0., 0., 0.],\n",
       "          [0., 0., 0., 0., 0., 0., 0., 0., 1., 0., 0., 0., 0., 0., 0.],\n",
       "          [0., 0., 0., 0., 0., 0., 0., 0., 0., 1., 0., 0., 0., 0., 0.],\n",
       "          [0., 0., 0., 0., 0., 0., 0., 0., 0., 0., 1., 0., 0., 0., 0.],\n",
       "          [0., 0., 0., 0., 0., 0., 0., 0., 0., 0., 0., 1., 0., 0., 0.],\n",
       "          [0., 0., 0., 0., 0., 0., 0., 0., 0., 0., 0., 0., 1., 0., 0.],\n",
       "          [0., 0., 0., 0., 0., 0., 0., 0., 0., 0., 0., 0., 0., 1., 0.]])]),\n",
       " 8: ({'ssr_ftest': (2.0074189741587976, 0.04515820648527384, 315.0, 8),\n",
       "   'ssr_chi2test': (16.926046969415133, 0.03088842528863975, 8),\n",
       "   'lrtest': (16.508710302259033, 0.03565138738654136, 8),\n",
       "   'params_ftest': (2.0074189741587953, 0.04515820648527384, 315.0, 8.0)},\n",
       "  [<statsmodels.regression.linear_model.RegressionResultsWrapper at 0x14392006848>,\n",
       "   <statsmodels.regression.linear_model.RegressionResultsWrapper at 0x14392006688>,\n",
       "   array([[0., 0., 0., 0., 0., 0., 0., 0., 1., 0., 0., 0., 0., 0., 0., 0.,\n",
       "           0.],\n",
       "          [0., 0., 0., 0., 0., 0., 0., 0., 0., 1., 0., 0., 0., 0., 0., 0.,\n",
       "           0.],\n",
       "          [0., 0., 0., 0., 0., 0., 0., 0., 0., 0., 1., 0., 0., 0., 0., 0.,\n",
       "           0.],\n",
       "          [0., 0., 0., 0., 0., 0., 0., 0., 0., 0., 0., 1., 0., 0., 0., 0.,\n",
       "           0.],\n",
       "          [0., 0., 0., 0., 0., 0., 0., 0., 0., 0., 0., 0., 1., 0., 0., 0.,\n",
       "           0.],\n",
       "          [0., 0., 0., 0., 0., 0., 0., 0., 0., 0., 0., 0., 0., 1., 0., 0.,\n",
       "           0.],\n",
       "          [0., 0., 0., 0., 0., 0., 0., 0., 0., 0., 0., 0., 0., 0., 1., 0.,\n",
       "           0.],\n",
       "          [0., 0., 0., 0., 0., 0., 0., 0., 0., 0., 0., 0., 0., 0., 0., 1.,\n",
       "           0.]])]),\n",
       " 9: ({'ssr_ftest': (1.8213855184808927, 0.06372869928748262, 312.0, 9),\n",
       "   'ssr_chi2test': (17.39072903703391, 0.04293740597186264, 9),\n",
       "   'lrtest': (16.949271773812598, 0.04951632658004409, 9),\n",
       "   'params_ftest': (1.8213855184808883, 0.06372869928748423, 312.0, 9.0)},\n",
       "  [<statsmodels.regression.linear_model.RegressionResultsWrapper at 0x14392009308>,\n",
       "   <statsmodels.regression.linear_model.RegressionResultsWrapper at 0x14392009188>,\n",
       "   array([[0., 0., 0., 0., 0., 0., 0., 0., 0., 1., 0., 0., 0., 0., 0., 0.,\n",
       "           0., 0., 0.],\n",
       "          [0., 0., 0., 0., 0., 0., 0., 0., 0., 0., 1., 0., 0., 0., 0., 0.,\n",
       "           0., 0., 0.],\n",
       "          [0., 0., 0., 0., 0., 0., 0., 0., 0., 0., 0., 1., 0., 0., 0., 0.,\n",
       "           0., 0., 0.],\n",
       "          [0., 0., 0., 0., 0., 0., 0., 0., 0., 0., 0., 0., 1., 0., 0., 0.,\n",
       "           0., 0., 0.],\n",
       "          [0., 0., 0., 0., 0., 0., 0., 0., 0., 0., 0., 0., 0., 1., 0., 0.,\n",
       "           0., 0., 0.],\n",
       "          [0., 0., 0., 0., 0., 0., 0., 0., 0., 0., 0., 0., 0., 0., 1., 0.,\n",
       "           0., 0., 0.],\n",
       "          [0., 0., 0., 0., 0., 0., 0., 0., 0., 0., 0., 0., 0., 0., 0., 1.,\n",
       "           0., 0., 0.],\n",
       "          [0., 0., 0., 0., 0., 0., 0., 0., 0., 0., 0., 0., 0., 0., 0., 0.,\n",
       "           1., 0., 0.],\n",
       "          [0., 0., 0., 0., 0., 0., 0., 0., 0., 0., 0., 0., 0., 0., 0., 0.,\n",
       "           0., 1., 0.]])]),\n",
       " 10: ({'ssr_ftest': (1.84746250286803, 0.052101331639809866, 309.0, 10),\n",
       "   'ssr_chi2test': (19.730182069464398, 0.03191051224245198, 10),\n",
       "   'lrtest': (19.162867134612043, 0.03824212686506585, 10),\n",
       "   'params_ftest': (1.8474625028680305, 0.052101331639809866, 309.0, 10.0)},\n",
       "  [<statsmodels.regression.linear_model.RegressionResultsWrapper at 0x143946e9148>,\n",
       "   <statsmodels.regression.linear_model.RegressionResultsWrapper at 0x143946d8208>,\n",
       "   array([[0., 0., 0., 0., 0., 0., 0., 0., 0., 0., 1., 0., 0., 0., 0., 0.,\n",
       "           0., 0., 0., 0., 0.],\n",
       "          [0., 0., 0., 0., 0., 0., 0., 0., 0., 0., 0., 1., 0., 0., 0., 0.,\n",
       "           0., 0., 0., 0., 0.],\n",
       "          [0., 0., 0., 0., 0., 0., 0., 0., 0., 0., 0., 0., 1., 0., 0., 0.,\n",
       "           0., 0., 0., 0., 0.],\n",
       "          [0., 0., 0., 0., 0., 0., 0., 0., 0., 0., 0., 0., 0., 1., 0., 0.,\n",
       "           0., 0., 0., 0., 0.],\n",
       "          [0., 0., 0., 0., 0., 0., 0., 0., 0., 0., 0., 0., 0., 0., 1., 0.,\n",
       "           0., 0., 0., 0., 0.],\n",
       "          [0., 0., 0., 0., 0., 0., 0., 0., 0., 0., 0., 0., 0., 0., 0., 1.,\n",
       "           0., 0., 0., 0., 0.],\n",
       "          [0., 0., 0., 0., 0., 0., 0., 0., 0., 0., 0., 0., 0., 0., 0., 0.,\n",
       "           1., 0., 0., 0., 0.],\n",
       "          [0., 0., 0., 0., 0., 0., 0., 0., 0., 0., 0., 0., 0., 0., 0., 0.,\n",
       "           0., 1., 0., 0., 0.],\n",
       "          [0., 0., 0., 0., 0., 0., 0., 0., 0., 0., 0., 0., 0., 0., 0., 0.,\n",
       "           0., 0., 1., 0., 0.],\n",
       "          [0., 0., 0., 0., 0., 0., 0., 0., 0., 0., 0., 0., 0., 0., 0., 0.,\n",
       "           0., 0., 0., 1., 0.]])])}"
      ]
     },
     "execution_count": 59,
     "metadata": {},
     "output_type": "execute_result"
    }
   ],
   "source": [
    "from statsmodels.tsa.stattools import grangercausalitytests\n",
    "maxlag = 10\n",
    "grangercausalitytests(dataset, maxlag)\n",
    "\n",
    "# GRANGER CAUSALITY @ LAGS 1 - 8"
   ]
  },
  {
   "cell_type": "code",
   "execution_count": null,
   "metadata": {},
   "outputs": [],
   "source": []
  }
 ],
 "metadata": {
  "kernelspec": {
   "display_name": "Python 3",
   "language": "python",
   "name": "python3"
  },
  "language_info": {
   "codemirror_mode": {
    "name": "ipython",
    "version": 3
   },
   "file_extension": ".py",
   "mimetype": "text/x-python",
   "name": "python",
   "nbconvert_exporter": "python",
   "pygments_lexer": "ipython3",
   "version": "3.7.6"
  }
 },
 "nbformat": 4,
 "nbformat_minor": 2
}
